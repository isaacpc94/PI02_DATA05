{
 "cells": [
  {
   "cell_type": "markdown",
   "metadata": {},
   "source": [
    "IMPORTACION DE LIBRERIAS"
   ]
  },
  {
   "cell_type": "code",
   "execution_count": 25,
   "metadata": {},
   "outputs": [],
   "source": [
    "import pandas as pd\n",
    "import numpy as np\n",
    "from sklearn.linear_model import LinearRegression\n",
    "from sklearn.metrics import r2_score\n",
    "from sklearn.metrics import mean_squared_error\n",
    "import matplotlib.pyplot as plt\n",
    "import seaborn as sns\n",
    "from sklearn.preprocessing import OneHotEncoder\n",
    "from sklearn.preprocessing import LabelEncoder\n",
    "from sklearn.linear_model import LogisticRegression\n",
    "from sklearn.metrics import accuracy_score,  recall_score\n",
    "from sklearn.model_selection import GridSearchCV\n",
    "from sklearn.model_selection import RandomizedSearchCV\n",
    "from sklearn.pipeline import make_pipeline\n",
    "from sklearn.preprocessing import StandardScaler\n",
    "from sklearn.preprocessing import MinMaxScaler\n",
    "from sklearn.decomposition import PCA\n",
    "from sklearn.pipeline import Pipeline\n",
    "from sklearn import svm\n",
    "from sklearn.model_selection import cross_val_score\n",
    "from sklearn.tree import DecisionTreeClassifier\n",
    "from sklearn.model_selection import train_test_split\n",
    "from sklearn.neighbors import KNeighborsClassifier\n",
    "pd.options.display.max_columns = None\n",
    "\n"
   ]
  },
  {
   "cell_type": "code",
   "execution_count": 26,
   "metadata": {},
   "outputs": [
    {
     "data": {
      "text/html": [
       "<div>\n",
       "<style scoped>\n",
       "    .dataframe tbody tr th:only-of-type {\n",
       "        vertical-align: middle;\n",
       "    }\n",
       "\n",
       "    .dataframe tbody tr th {\n",
       "        vertical-align: top;\n",
       "    }\n",
       "\n",
       "    .dataframe thead th {\n",
       "        text-align: right;\n",
       "    }\n",
       "</style>\n",
       "<table border=\"1\" class=\"dataframe\">\n",
       "  <thead>\n",
       "    <tr style=\"text-align: right;\">\n",
       "      <th></th>\n",
       "      <th>Available Extra Rooms in Hospital</th>\n",
       "      <th>Department</th>\n",
       "      <th>Ward_Facility_Code</th>\n",
       "      <th>doctor_name</th>\n",
       "      <th>staff_available</th>\n",
       "      <th>patientid</th>\n",
       "      <th>Age</th>\n",
       "      <th>gender</th>\n",
       "      <th>Type of Admission</th>\n",
       "      <th>Severity of Illness</th>\n",
       "      <th>health_conditions</th>\n",
       "      <th>Visitors with Patient</th>\n",
       "      <th>Insurance</th>\n",
       "      <th>Admission_Deposit</th>\n",
       "      <th>Stay (in days)</th>\n",
       "    </tr>\n",
       "  </thead>\n",
       "  <tbody>\n",
       "    <tr>\n",
       "      <th>0</th>\n",
       "      <td>4</td>\n",
       "      <td>gynecology</td>\n",
       "      <td>D</td>\n",
       "      <td>Dr Sophia</td>\n",
       "      <td>0</td>\n",
       "      <td>33070</td>\n",
       "      <td>41-50</td>\n",
       "      <td>Female</td>\n",
       "      <td>Trauma</td>\n",
       "      <td>Extreme</td>\n",
       "      <td>Diabetes</td>\n",
       "      <td>4</td>\n",
       "      <td>Yes</td>\n",
       "      <td>2966.408696</td>\n",
       "      <td>8</td>\n",
       "    </tr>\n",
       "    <tr>\n",
       "      <th>1</th>\n",
       "      <td>4</td>\n",
       "      <td>gynecology</td>\n",
       "      <td>B</td>\n",
       "      <td>Dr Sophia</td>\n",
       "      <td>2</td>\n",
       "      <td>34808</td>\n",
       "      <td>31-40</td>\n",
       "      <td>Female</td>\n",
       "      <td>Trauma</td>\n",
       "      <td>Minor</td>\n",
       "      <td>Heart disease</td>\n",
       "      <td>2</td>\n",
       "      <td>No</td>\n",
       "      <td>3554.835677</td>\n",
       "      <td>9</td>\n",
       "    </tr>\n",
       "    <tr>\n",
       "      <th>2</th>\n",
       "      <td>2</td>\n",
       "      <td>gynecology</td>\n",
       "      <td>B</td>\n",
       "      <td>Dr Sophia</td>\n",
       "      <td>8</td>\n",
       "      <td>44577</td>\n",
       "      <td>21-30</td>\n",
       "      <td>Female</td>\n",
       "      <td>Trauma</td>\n",
       "      <td>Extreme</td>\n",
       "      <td>Diabetes</td>\n",
       "      <td>2</td>\n",
       "      <td>Yes</td>\n",
       "      <td>5624.733654</td>\n",
       "      <td>7</td>\n",
       "    </tr>\n",
       "    <tr>\n",
       "      <th>3</th>\n",
       "      <td>4</td>\n",
       "      <td>gynecology</td>\n",
       "      <td>D</td>\n",
       "      <td>Dr Olivia</td>\n",
       "      <td>7</td>\n",
       "      <td>3695</td>\n",
       "      <td>31-40</td>\n",
       "      <td>Female</td>\n",
       "      <td>Urgent</td>\n",
       "      <td>Moderate</td>\n",
       "      <td>None</td>\n",
       "      <td>4</td>\n",
       "      <td>No</td>\n",
       "      <td>4814.149231</td>\n",
       "      <td>8</td>\n",
       "    </tr>\n",
       "    <tr>\n",
       "      <th>4</th>\n",
       "      <td>2</td>\n",
       "      <td>anesthesia</td>\n",
       "      <td>E</td>\n",
       "      <td>Dr Mark</td>\n",
       "      <td>10</td>\n",
       "      <td>108956</td>\n",
       "      <td>71-80</td>\n",
       "      <td>Male</td>\n",
       "      <td>Trauma</td>\n",
       "      <td>Moderate</td>\n",
       "      <td>Diabetes</td>\n",
       "      <td>2</td>\n",
       "      <td>No</td>\n",
       "      <td>5169.269637</td>\n",
       "      <td>34</td>\n",
       "    </tr>\n",
       "  </tbody>\n",
       "</table>\n",
       "</div>"
      ],
      "text/plain": [
       "   Available Extra Rooms in Hospital  Department Ward_Facility_Code  \\\n",
       "0                                  4  gynecology                  D   \n",
       "1                                  4  gynecology                  B   \n",
       "2                                  2  gynecology                  B   \n",
       "3                                  4  gynecology                  D   \n",
       "4                                  2  anesthesia                  E   \n",
       "\n",
       "  doctor_name  staff_available  patientid    Age  gender Type of Admission  \\\n",
       "0   Dr Sophia                0      33070  41-50  Female            Trauma   \n",
       "1   Dr Sophia                2      34808  31-40  Female            Trauma   \n",
       "2   Dr Sophia                8      44577  21-30  Female            Trauma   \n",
       "3   Dr Olivia                7       3695  31-40  Female            Urgent   \n",
       "4     Dr Mark               10     108956  71-80    Male            Trauma   \n",
       "\n",
       "  Severity of Illness health_conditions  Visitors with Patient Insurance  \\\n",
       "0             Extreme          Diabetes                      4       Yes   \n",
       "1               Minor     Heart disease                      2        No   \n",
       "2             Extreme          Diabetes                      2       Yes   \n",
       "3            Moderate              None                      4        No   \n",
       "4            Moderate          Diabetes                      2        No   \n",
       "\n",
       "   Admission_Deposit  Stay (in days)  \n",
       "0        2966.408696               8  \n",
       "1        3554.835677               9  \n",
       "2        5624.733654               7  \n",
       "3        4814.149231               8  \n",
       "4        5169.269637              34  "
      ]
     },
     "execution_count": 26,
     "metadata": {},
     "output_type": "execute_result"
    }
   ],
   "source": [
    "dftrain = pd.read_csv(\"hospitalizaciones_train.csv\")\n",
    "dftrain.head(5)"
   ]
  },
  {
   "cell_type": "code",
   "execution_count": 27,
   "metadata": {},
   "outputs": [
    {
     "name": "stdout",
     "output_type": "stream",
     "text": [
      "Available Extra Rooms in Hospital\n",
      "[ 4  2  7  3  5 10  6  1 21  8 11 13  9 14 24  0 12 20]\n",
      "\n",
      "\n",
      "Department\n",
      "['gynecology' 'anesthesia' 'TB & Chest disease' 'radiotherapy' 'surgery']\n",
      "\n",
      "\n",
      "Ward_Facility_Code\n",
      "['D' 'B' 'E' 'F' 'A' 'C']\n",
      "\n",
      "\n",
      "doctor_name\n",
      "['Dr Sophia' 'Dr Olivia' 'Dr Mark' 'Dr John' 'Dr Sarah' 'Dr Sam'\n",
      " 'Dr Nathan' 'Dr Simon' 'Dr Isaac']\n",
      "\n",
      "\n",
      "staff_available\n",
      "[ 0  2  8  7 10  5  9  3  6  4  1]\n",
      "\n",
      "\n",
      "patientid\n",
      "[33070 34808 44577 ... 40881 51342 63598]\n",
      "\n",
      "\n",
      "Age\n",
      "['41-50' '31-40' '21-30' '71-80' '11-20' '51-60' '61-70' '81-90' '91-100'\n",
      " '0-10']\n",
      "\n",
      "\n",
      "gender\n",
      "['Female' 'Male' 'Other']\n",
      "\n",
      "\n",
      "Type of Admission\n",
      "['Trauma' 'Urgent' 'Emergency']\n",
      "\n",
      "\n",
      "Severity of Illness\n",
      "['Extreme' 'Minor' 'Moderate']\n",
      "\n",
      "\n",
      "health_conditions\n",
      "['Diabetes' 'Heart disease' 'None' 'Other' 'Asthama' 'High Blood Pressure']\n",
      "\n",
      "\n",
      "Visitors with Patient\n",
      "[ 4  2  3 11  9  6  8 12  5  1 14  7 13 10 22 18  0 16 20 21 19 23 15 24\n",
      " 17 30 32 25]\n",
      "\n",
      "\n",
      "Insurance\n",
      "['Yes' 'No']\n",
      "\n",
      "\n",
      "Admission_Deposit\n",
      "[2966.408696 3554.835677 5624.733654 ... 3816.99421  3841.577491\n",
      " 4329.046412]\n",
      "\n",
      "\n",
      "Stay (in days)\n",
      "[ 8  9  7 34 11 12 16  5 26 21 10  6 20 22 39 14 17 32 24 35 25 23 33 19\n",
      " 38 13 36 31 40 15 18 28 27 30  4 29 37 45 43 41 46 42 44 47 48  3 49 50\n",
      " 51]\n",
      "\n",
      "\n"
     ]
    }
   ],
   "source": [
    "#explorando las variables unicas\n",
    "for i in range(15):\n",
    "    print (dftrain.columns[i])\n",
    "    print(dftrain.iloc[:,i].unique())\n",
    "    print(\"\\n\")"
   ]
  },
  {
   "cell_type": "code",
   "execution_count": 28,
   "metadata": {},
   "outputs": [
    {
     "name": "stdout",
     "output_type": "stream",
     "text": [
      "<class 'pandas.core.frame.DataFrame'>\n",
      "RangeIndex: 410000 entries, 0 to 409999\n",
      "Data columns (total 15 columns):\n",
      " #   Column                             Non-Null Count   Dtype  \n",
      "---  ------                             --------------   -----  \n",
      " 0   Available Extra Rooms in Hospital  410000 non-null  int64  \n",
      " 1   Department                         410000 non-null  object \n",
      " 2   Ward_Facility_Code                 410000 non-null  object \n",
      " 3   doctor_name                        410000 non-null  object \n",
      " 4   staff_available                    410000 non-null  int64  \n",
      " 5   patientid                          410000 non-null  int64  \n",
      " 6   Age                                410000 non-null  object \n",
      " 7   gender                             410000 non-null  object \n",
      " 8   Type of Admission                  410000 non-null  object \n",
      " 9   Severity of Illness                410000 non-null  object \n",
      " 10  health_conditions                  410000 non-null  object \n",
      " 11  Visitors with Patient              410000 non-null  int64  \n",
      " 12  Insurance                          410000 non-null  object \n",
      " 13  Admission_Deposit                  410000 non-null  float64\n",
      " 14  Stay (in days)                     410000 non-null  int64  \n",
      "dtypes: float64(1), int64(5), object(9)\n",
      "memory usage: 46.9+ MB\n"
     ]
    }
   ],
   "source": [
    "dftrain.info()"
   ]
  },
  {
   "cell_type": "markdown",
   "metadata": {},
   "source": [
    "CONVIRTIENDO A VALORES NUMERICOS LOS DATOS CATEGORICOS"
   ]
  },
  {
   "cell_type": "code",
   "execution_count": 29,
   "metadata": {},
   "outputs": [
    {
     "name": "stdout",
     "output_type": "stream",
     "text": [
      "[array(['TB & Chest disease', 'anesthesia', 'gynecology', 'radiotherapy',\n",
      "       'surgery'], dtype=object)]\n"
     ]
    }
   ],
   "source": [
    "#Encoding de la columna Department\n",
    "enc = OneHotEncoder(sparse=False)\n",
    "departamentos=dftrain[\"Department\"].values.reshape(-1,1)\n",
    "enc.fit(departamentos)\n",
    "enc2=enc.transform(departamentos)\n",
    "print(enc.categories_)\n",
    "dftrain[\"gynecoloy_encoded\"]=enc2[:,0]\n",
    "dftrain[\"anesthesia_encoded\"]=enc2[:,1]\n",
    "dftrain[\"TB & Chest disease:_encoded\"]=enc2[:,2]\n",
    "dftrain[\"radiotherapy_encoded\"]=enc2[:,3]\n",
    "dftrain[\"surgery_encoded\"]=enc2[:,4]\n"
   ]
  },
  {
   "cell_type": "code",
   "execution_count": 30,
   "metadata": {},
   "outputs": [],
   "source": [
    "#Encoding de la columna staff_available\n",
    "bins=[-1,0,10]\n",
    "labels=[0,1]\n",
    "cats=pd.cut(dftrain[\"staff_available\"],bins, labels = labels)\n",
    "dftrain[\"cats staff_available\"]=cats\n",
    "dftrain[\"cats staff_available\"]=pd.factorize(dftrain['cats staff_available'])[0]"
   ]
  },
  {
   "cell_type": "code",
   "execution_count": 31,
   "metadata": {},
   "outputs": [],
   "source": [
    "#Encoding de la columna age y reescalando con Minmax\n",
    "y_encoder = LabelEncoder().fit(dftrain['Age'])\n",
    "dftrain[\"Age_encoded\"] = y_encoder.transform(dftrain['Age'])"
   ]
  },
  {
   "cell_type": "code",
   "execution_count": 32,
   "metadata": {},
   "outputs": [],
   "source": [
    "#Encoding de la columna age y reescalando con Minmax\n",
    "y_encoder = LabelEncoder().fit(dftrain['Age'])\n",
    "dftrain[\"Age_encoded\"] = y_encoder.transform(dftrain['Age'])\n",
    "scaler = MinMaxScaler() \n",
    "dftrain[\"Age_encoded\"]=scaler.fit_transform(dftrain[[\"Age_encoded\"]])"
   ]
  },
  {
   "cell_type": "code",
   "execution_count": 33,
   "metadata": {},
   "outputs": [
    {
     "name": "stdout",
     "output_type": "stream",
     "text": [
      "[array(['Female', 'Male', 'Other'], dtype=object)]\n"
     ]
    }
   ],
   "source": [
    "#Encoding de la columna gender\n",
    "enc = OneHotEncoder(sparse=False)\n",
    "genero=dftrain[\"gender\"].values.reshape(-1,1)\n",
    "enc.fit(genero)\n",
    "enc2=enc.transform(genero)\n",
    "print(enc.categories_)\n",
    "dftrain[\"Female_encoded\"]=enc2[:,0]\n",
    "dftrain[\"Male_encoded\"]=enc2[:,1]\n",
    "dftrain[\"Other_encoded\"]=enc2[:,2]"
   ]
  },
  {
   "cell_type": "code",
   "execution_count": 34,
   "metadata": {},
   "outputs": [
    {
     "name": "stdout",
     "output_type": "stream",
     "text": [
      "[array(['Emergency', 'Trauma', 'Urgent'], dtype=object)]\n"
     ]
    }
   ],
   "source": [
    "#Encoding de la columna Type of Admission\n",
    "enc = OneHotEncoder(sparse=False)\n",
    "genero=dftrain[\"Type of Admission\"].values.reshape(-1,1)\n",
    "enc.fit(genero)\n",
    "enc2=enc.transform(genero)\n",
    "print(enc.categories_)\n",
    "dftrain[\"Trauma_encoded\"]=enc2[:,0]\n",
    "dftrain[\"Urgent_encoded\"]=enc2[:,1]\n",
    "dftrain[\"Emergency_encoded\"]=enc2[:,2]"
   ]
  },
  {
   "cell_type": "code",
   "execution_count": 35,
   "metadata": {},
   "outputs": [],
   "source": [
    "#Encoding de la columna Severity of illnes y haciendo MinMaxScaler() \n",
    "dftrain[\"Severity of Illness_encoded\"]=dftrain[\"Severity of Illness\"]\n",
    "dftrain[\"Severity of Illness_encoded\"].replace(\"Minor\",0,inplace=True)\n",
    "dftrain[\"Severity of Illness_encoded\"].replace(\"Moderate\",1,inplace=True)\n",
    "dftrain[\"Severity of Illness_encoded\"].replace(\"Extreme\",2,inplace=True)\n",
    "scaler = MinMaxScaler() \n",
    "dftrain[\"Severity of Illness_encoded\"]=scaler.fit_transform(dftrain[[\"Severity of Illness_encoded\"]])"
   ]
  },
  {
   "cell_type": "code",
   "execution_count": 36,
   "metadata": {},
   "outputs": [
    {
     "name": "stdout",
     "output_type": "stream",
     "text": [
      "[array(['Asthama', 'Diabetes', 'Heart disease', 'High Blood Pressure',\n",
      "       'None', 'Other'], dtype=object)]\n"
     ]
    }
   ],
   "source": [
    "#Encodign de la columna health_conditions\n",
    "enc = OneHotEncoder(sparse=False)\n",
    "genero=dftrain[\"health_conditions\"].values.reshape(-1,1)\n",
    "enc.fit(genero)\n",
    "enc2=enc.transform(genero)\n",
    "print(enc.categories_)\n",
    "dftrain[\"Diabetes_encoded\"]=enc2[:,0]\n",
    "dftrain[\"Heart disease_encoded\"]=enc2[:,1]\n",
    "dftrain[\"None_encoded\"]=enc2[:,2]\n",
    "dftrain[\"hcOther_encoded\"]=enc2[:,3]\n",
    "dftrain[\"Asthama_encoded\"]=enc2[:,4]\n",
    "dftrain[\"High Blood Pressure_encoded\"]=enc2[:,5]\n"
   ]
  },
  {
   "cell_type": "code",
   "execution_count": 40,
   "metadata": {},
   "outputs": [
    {
     "data": {
      "text/html": [
       "<div>\n",
       "<style scoped>\n",
       "    .dataframe tbody tr th:only-of-type {\n",
       "        vertical-align: middle;\n",
       "    }\n",
       "\n",
       "    .dataframe tbody tr th {\n",
       "        vertical-align: top;\n",
       "    }\n",
       "\n",
       "    .dataframe thead th {\n",
       "        text-align: right;\n",
       "    }\n",
       "</style>\n",
       "<table border=\"1\" class=\"dataframe\">\n",
       "  <thead>\n",
       "    <tr style=\"text-align: right;\">\n",
       "      <th></th>\n",
       "      <th>Available Extra Rooms in Hospital</th>\n",
       "      <th>Department</th>\n",
       "      <th>Ward_Facility_Code</th>\n",
       "      <th>doctor_name</th>\n",
       "      <th>staff_available</th>\n",
       "      <th>patientid</th>\n",
       "      <th>Age</th>\n",
       "      <th>gender</th>\n",
       "      <th>Type of Admission</th>\n",
       "      <th>Severity of Illness</th>\n",
       "      <th>health_conditions</th>\n",
       "      <th>Visitors with Patient</th>\n",
       "      <th>Insurance</th>\n",
       "      <th>Admission_Deposit</th>\n",
       "      <th>Stay (in days)</th>\n",
       "      <th>gynecoloy_encoded</th>\n",
       "      <th>anesthesia_encoded</th>\n",
       "      <th>TB &amp; Chest disease:_encoded</th>\n",
       "      <th>radiotherapy_encoded</th>\n",
       "      <th>surgery_encoded</th>\n",
       "      <th>cats staff_available</th>\n",
       "      <th>Age_encoded</th>\n",
       "      <th>Female_encoded</th>\n",
       "      <th>Male_encoded</th>\n",
       "      <th>Other_encoded</th>\n",
       "      <th>Trauma_encoded</th>\n",
       "      <th>Urgent_encoded</th>\n",
       "      <th>Emergency_encoded</th>\n",
       "      <th>Severity of Illness_encoded</th>\n",
       "      <th>Diabetes_encoded</th>\n",
       "      <th>Heart disease_encoded</th>\n",
       "      <th>None_encoded</th>\n",
       "      <th>hcOther_encoded</th>\n",
       "      <th>Asthama_encoded</th>\n",
       "      <th>High Blood Pressure_encoded</th>\n",
       "      <th>Visitors with Patient_encoded</th>\n",
       "      <th>Insurance_encoded</th>\n",
       "      <th>Admission_Deposit_encoded</th>\n",
       "      <th>cats stay</th>\n",
       "    </tr>\n",
       "  </thead>\n",
       "  <tbody>\n",
       "    <tr>\n",
       "      <th>0</th>\n",
       "      <td>4</td>\n",
       "      <td>gynecology</td>\n",
       "      <td>D</td>\n",
       "      <td>Dr Sophia</td>\n",
       "      <td>0</td>\n",
       "      <td>33070</td>\n",
       "      <td>41-50</td>\n",
       "      <td>Female</td>\n",
       "      <td>Trauma</td>\n",
       "      <td>Extreme</td>\n",
       "      <td>Diabetes</td>\n",
       "      <td>4</td>\n",
       "      <td>Yes</td>\n",
       "      <td>2966.408696</td>\n",
       "      <td>8</td>\n",
       "      <td>0.0</td>\n",
       "      <td>0.0</td>\n",
       "      <td>1.0</td>\n",
       "      <td>0.0</td>\n",
       "      <td>0.0</td>\n",
       "      <td>0</td>\n",
       "      <td>0.444444</td>\n",
       "      <td>1.0</td>\n",
       "      <td>0.0</td>\n",
       "      <td>0.0</td>\n",
       "      <td>0.0</td>\n",
       "      <td>1.0</td>\n",
       "      <td>0.0</td>\n",
       "      <td>1.0</td>\n",
       "      <td>0.0</td>\n",
       "      <td>1.0</td>\n",
       "      <td>0.0</td>\n",
       "      <td>0.0</td>\n",
       "      <td>0.0</td>\n",
       "      <td>0.0</td>\n",
       "      <td>0.1250</td>\n",
       "      <td>1</td>\n",
       "      <td>-1.677467</td>\n",
       "      <td>0</td>\n",
       "    </tr>\n",
       "    <tr>\n",
       "      <th>1</th>\n",
       "      <td>4</td>\n",
       "      <td>gynecology</td>\n",
       "      <td>B</td>\n",
       "      <td>Dr Sophia</td>\n",
       "      <td>2</td>\n",
       "      <td>34808</td>\n",
       "      <td>31-40</td>\n",
       "      <td>Female</td>\n",
       "      <td>Trauma</td>\n",
       "      <td>Minor</td>\n",
       "      <td>Heart disease</td>\n",
       "      <td>2</td>\n",
       "      <td>No</td>\n",
       "      <td>3554.835677</td>\n",
       "      <td>9</td>\n",
       "      <td>0.0</td>\n",
       "      <td>0.0</td>\n",
       "      <td>1.0</td>\n",
       "      <td>0.0</td>\n",
       "      <td>0.0</td>\n",
       "      <td>1</td>\n",
       "      <td>0.333333</td>\n",
       "      <td>1.0</td>\n",
       "      <td>0.0</td>\n",
       "      <td>0.0</td>\n",
       "      <td>0.0</td>\n",
       "      <td>1.0</td>\n",
       "      <td>0.0</td>\n",
       "      <td>0.0</td>\n",
       "      <td>0.0</td>\n",
       "      <td>0.0</td>\n",
       "      <td>1.0</td>\n",
       "      <td>0.0</td>\n",
       "      <td>0.0</td>\n",
       "      <td>0.0</td>\n",
       "      <td>0.0625</td>\n",
       "      <td>0</td>\n",
       "      <td>-1.115679</td>\n",
       "      <td>1</td>\n",
       "    </tr>\n",
       "    <tr>\n",
       "      <th>2</th>\n",
       "      <td>2</td>\n",
       "      <td>gynecology</td>\n",
       "      <td>B</td>\n",
       "      <td>Dr Sophia</td>\n",
       "      <td>8</td>\n",
       "      <td>44577</td>\n",
       "      <td>21-30</td>\n",
       "      <td>Female</td>\n",
       "      <td>Trauma</td>\n",
       "      <td>Extreme</td>\n",
       "      <td>Diabetes</td>\n",
       "      <td>2</td>\n",
       "      <td>Yes</td>\n",
       "      <td>5624.733654</td>\n",
       "      <td>7</td>\n",
       "      <td>0.0</td>\n",
       "      <td>0.0</td>\n",
       "      <td>1.0</td>\n",
       "      <td>0.0</td>\n",
       "      <td>0.0</td>\n",
       "      <td>1</td>\n",
       "      <td>0.222222</td>\n",
       "      <td>1.0</td>\n",
       "      <td>0.0</td>\n",
       "      <td>0.0</td>\n",
       "      <td>0.0</td>\n",
       "      <td>1.0</td>\n",
       "      <td>0.0</td>\n",
       "      <td>1.0</td>\n",
       "      <td>0.0</td>\n",
       "      <td>1.0</td>\n",
       "      <td>0.0</td>\n",
       "      <td>0.0</td>\n",
       "      <td>0.0</td>\n",
       "      <td>0.0</td>\n",
       "      <td>0.0625</td>\n",
       "      <td>1</td>\n",
       "      <td>0.860510</td>\n",
       "      <td>0</td>\n",
       "    </tr>\n",
       "    <tr>\n",
       "      <th>3</th>\n",
       "      <td>4</td>\n",
       "      <td>gynecology</td>\n",
       "      <td>D</td>\n",
       "      <td>Dr Olivia</td>\n",
       "      <td>7</td>\n",
       "      <td>3695</td>\n",
       "      <td>31-40</td>\n",
       "      <td>Female</td>\n",
       "      <td>Urgent</td>\n",
       "      <td>Moderate</td>\n",
       "      <td>None</td>\n",
       "      <td>4</td>\n",
       "      <td>No</td>\n",
       "      <td>4814.149231</td>\n",
       "      <td>8</td>\n",
       "      <td>0.0</td>\n",
       "      <td>0.0</td>\n",
       "      <td>1.0</td>\n",
       "      <td>0.0</td>\n",
       "      <td>0.0</td>\n",
       "      <td>1</td>\n",
       "      <td>0.333333</td>\n",
       "      <td>1.0</td>\n",
       "      <td>0.0</td>\n",
       "      <td>0.0</td>\n",
       "      <td>0.0</td>\n",
       "      <td>0.0</td>\n",
       "      <td>1.0</td>\n",
       "      <td>0.5</td>\n",
       "      <td>0.0</td>\n",
       "      <td>0.0</td>\n",
       "      <td>0.0</td>\n",
       "      <td>0.0</td>\n",
       "      <td>1.0</td>\n",
       "      <td>0.0</td>\n",
       "      <td>0.1250</td>\n",
       "      <td>0</td>\n",
       "      <td>0.086622</td>\n",
       "      <td>0</td>\n",
       "    </tr>\n",
       "    <tr>\n",
       "      <th>4</th>\n",
       "      <td>2</td>\n",
       "      <td>anesthesia</td>\n",
       "      <td>E</td>\n",
       "      <td>Dr Mark</td>\n",
       "      <td>10</td>\n",
       "      <td>108956</td>\n",
       "      <td>71-80</td>\n",
       "      <td>Male</td>\n",
       "      <td>Trauma</td>\n",
       "      <td>Moderate</td>\n",
       "      <td>Diabetes</td>\n",
       "      <td>2</td>\n",
       "      <td>No</td>\n",
       "      <td>5169.269637</td>\n",
       "      <td>34</td>\n",
       "      <td>0.0</td>\n",
       "      <td>1.0</td>\n",
       "      <td>0.0</td>\n",
       "      <td>0.0</td>\n",
       "      <td>0.0</td>\n",
       "      <td>1</td>\n",
       "      <td>0.777778</td>\n",
       "      <td>0.0</td>\n",
       "      <td>1.0</td>\n",
       "      <td>0.0</td>\n",
       "      <td>0.0</td>\n",
       "      <td>1.0</td>\n",
       "      <td>0.0</td>\n",
       "      <td>0.5</td>\n",
       "      <td>0.0</td>\n",
       "      <td>1.0</td>\n",
       "      <td>0.0</td>\n",
       "      <td>0.0</td>\n",
       "      <td>0.0</td>\n",
       "      <td>0.0</td>\n",
       "      <td>0.0625</td>\n",
       "      <td>0</td>\n",
       "      <td>0.425666</td>\n",
       "      <td>1</td>\n",
       "    </tr>\n",
       "  </tbody>\n",
       "</table>\n",
       "</div>"
      ],
      "text/plain": [
       "   Available Extra Rooms in Hospital  Department Ward_Facility_Code  \\\n",
       "0                                  4  gynecology                  D   \n",
       "1                                  4  gynecology                  B   \n",
       "2                                  2  gynecology                  B   \n",
       "3                                  4  gynecology                  D   \n",
       "4                                  2  anesthesia                  E   \n",
       "\n",
       "  doctor_name  staff_available  patientid    Age  gender Type of Admission  \\\n",
       "0   Dr Sophia                0      33070  41-50  Female            Trauma   \n",
       "1   Dr Sophia                2      34808  31-40  Female            Trauma   \n",
       "2   Dr Sophia                8      44577  21-30  Female            Trauma   \n",
       "3   Dr Olivia                7       3695  31-40  Female            Urgent   \n",
       "4     Dr Mark               10     108956  71-80    Male            Trauma   \n",
       "\n",
       "  Severity of Illness health_conditions  Visitors with Patient Insurance  \\\n",
       "0             Extreme          Diabetes                      4       Yes   \n",
       "1               Minor     Heart disease                      2        No   \n",
       "2             Extreme          Diabetes                      2       Yes   \n",
       "3            Moderate              None                      4        No   \n",
       "4            Moderate          Diabetes                      2        No   \n",
       "\n",
       "   Admission_Deposit  Stay (in days)  gynecoloy_encoded  anesthesia_encoded  \\\n",
       "0        2966.408696               8                0.0                 0.0   \n",
       "1        3554.835677               9                0.0                 0.0   \n",
       "2        5624.733654               7                0.0                 0.0   \n",
       "3        4814.149231               8                0.0                 0.0   \n",
       "4        5169.269637              34                0.0                 1.0   \n",
       "\n",
       "   TB & Chest disease:_encoded  radiotherapy_encoded  surgery_encoded  \\\n",
       "0                          1.0                   0.0              0.0   \n",
       "1                          1.0                   0.0              0.0   \n",
       "2                          1.0                   0.0              0.0   \n",
       "3                          1.0                   0.0              0.0   \n",
       "4                          0.0                   0.0              0.0   \n",
       "\n",
       "   cats staff_available  Age_encoded  Female_encoded  Male_encoded  \\\n",
       "0                     0     0.444444             1.0           0.0   \n",
       "1                     1     0.333333             1.0           0.0   \n",
       "2                     1     0.222222             1.0           0.0   \n",
       "3                     1     0.333333             1.0           0.0   \n",
       "4                     1     0.777778             0.0           1.0   \n",
       "\n",
       "   Other_encoded  Trauma_encoded  Urgent_encoded  Emergency_encoded  \\\n",
       "0            0.0             0.0             1.0                0.0   \n",
       "1            0.0             0.0             1.0                0.0   \n",
       "2            0.0             0.0             1.0                0.0   \n",
       "3            0.0             0.0             0.0                1.0   \n",
       "4            0.0             0.0             1.0                0.0   \n",
       "\n",
       "   Severity of Illness_encoded  Diabetes_encoded  Heart disease_encoded  \\\n",
       "0                          1.0               0.0                    1.0   \n",
       "1                          0.0               0.0                    0.0   \n",
       "2                          1.0               0.0                    1.0   \n",
       "3                          0.5               0.0                    0.0   \n",
       "4                          0.5               0.0                    1.0   \n",
       "\n",
       "   None_encoded  hcOther_encoded  Asthama_encoded  \\\n",
       "0           0.0              0.0              0.0   \n",
       "1           1.0              0.0              0.0   \n",
       "2           0.0              0.0              0.0   \n",
       "3           0.0              0.0              1.0   \n",
       "4           0.0              0.0              0.0   \n",
       "\n",
       "   High Blood Pressure_encoded  Visitors with Patient_encoded  \\\n",
       "0                          0.0                         0.1250   \n",
       "1                          0.0                         0.0625   \n",
       "2                          0.0                         0.0625   \n",
       "3                          0.0                         0.1250   \n",
       "4                          0.0                         0.0625   \n",
       "\n",
       "   Insurance_encoded  Admission_Deposit_encoded  cats stay  \n",
       "0                  1                  -1.677467          0  \n",
       "1                  0                  -1.115679          1  \n",
       "2                  1                   0.860510          0  \n",
       "3                  0                   0.086622          0  \n",
       "4                  0                   0.425666          1  "
      ]
     },
     "execution_count": 40,
     "metadata": {},
     "output_type": "execute_result"
    }
   ],
   "source": [
    "#encoding de la columna stat (in days a binario)\n",
    "bins=[-1,8,51]\n",
    "labels=[0,1]\n",
    "cats=pd.cut(dftrain[\"Stay (in days)\"],bins, labels = labels)\n",
    "dftrain[\"cats stay\"]=cats\n",
    "dftrain[\"cats stay\"]=pd.factorize(dftrain['cats stay'])[0]\n",
    "dftrain.head(5)"
   ]
  },
  {
   "cell_type": "code",
   "execution_count": 14,
   "metadata": {},
   "outputs": [],
   "source": [
    "dftrainfinal=dftrain.drop(columns=list(dftrain.columns)[0:15])\n",
    "dftrainfinalx=dftrainfinal.drop(columns=\"cats stay\")\n",
    "dftrainfinaly=dftrain[\"cats stay\"]"
   ]
  },
  {
   "cell_type": "code",
   "execution_count": 15,
   "metadata": {},
   "outputs": [
    {
     "data": {
      "text/html": [
       "<div>\n",
       "<style scoped>\n",
       "    .dataframe tbody tr th:only-of-type {\n",
       "        vertical-align: middle;\n",
       "    }\n",
       "\n",
       "    .dataframe tbody tr th {\n",
       "        vertical-align: top;\n",
       "    }\n",
       "\n",
       "    .dataframe thead th {\n",
       "        text-align: right;\n",
       "    }\n",
       "</style>\n",
       "<table border=\"1\" class=\"dataframe\">\n",
       "  <thead>\n",
       "    <tr style=\"text-align: right;\">\n",
       "      <th></th>\n",
       "      <th>gynecoloy_encoded</th>\n",
       "      <th>anesthesia_encoded</th>\n",
       "      <th>TB &amp; Chest disease:_encoded</th>\n",
       "      <th>radiotherapy_encoded</th>\n",
       "      <th>surgery_encoded</th>\n",
       "      <th>cats staff_available</th>\n",
       "      <th>Age_encoded</th>\n",
       "      <th>Female_encoded</th>\n",
       "      <th>Male_encoded</th>\n",
       "      <th>Other_encoded</th>\n",
       "      <th>Trauma_encoded</th>\n",
       "      <th>Urgent_encoded</th>\n",
       "      <th>Emergency_encoded</th>\n",
       "      <th>Severity of Illness_encoded</th>\n",
       "      <th>Diabetes_encoded</th>\n",
       "      <th>Heart disease_encoded</th>\n",
       "      <th>None_encoded</th>\n",
       "      <th>hcOther_encoded</th>\n",
       "      <th>Asthama_encoded</th>\n",
       "      <th>High Blood Pressure_encoded</th>\n",
       "    </tr>\n",
       "  </thead>\n",
       "  <tbody>\n",
       "    <tr>\n",
       "      <th>0</th>\n",
       "      <td>0.0</td>\n",
       "      <td>0.0</td>\n",
       "      <td>1.0</td>\n",
       "      <td>0.0</td>\n",
       "      <td>0.0</td>\n",
       "      <td>0</td>\n",
       "      <td>0.444444</td>\n",
       "      <td>1.0</td>\n",
       "      <td>0.0</td>\n",
       "      <td>0.0</td>\n",
       "      <td>0.0</td>\n",
       "      <td>1.0</td>\n",
       "      <td>0.0</td>\n",
       "      <td>1.0</td>\n",
       "      <td>0.0</td>\n",
       "      <td>1.0</td>\n",
       "      <td>0.0</td>\n",
       "      <td>0.0</td>\n",
       "      <td>0.0</td>\n",
       "      <td>0.0</td>\n",
       "    </tr>\n",
       "    <tr>\n",
       "      <th>1</th>\n",
       "      <td>0.0</td>\n",
       "      <td>0.0</td>\n",
       "      <td>1.0</td>\n",
       "      <td>0.0</td>\n",
       "      <td>0.0</td>\n",
       "      <td>1</td>\n",
       "      <td>0.333333</td>\n",
       "      <td>1.0</td>\n",
       "      <td>0.0</td>\n",
       "      <td>0.0</td>\n",
       "      <td>0.0</td>\n",
       "      <td>1.0</td>\n",
       "      <td>0.0</td>\n",
       "      <td>0.0</td>\n",
       "      <td>0.0</td>\n",
       "      <td>0.0</td>\n",
       "      <td>1.0</td>\n",
       "      <td>0.0</td>\n",
       "      <td>0.0</td>\n",
       "      <td>0.0</td>\n",
       "    </tr>\n",
       "    <tr>\n",
       "      <th>2</th>\n",
       "      <td>0.0</td>\n",
       "      <td>0.0</td>\n",
       "      <td>1.0</td>\n",
       "      <td>0.0</td>\n",
       "      <td>0.0</td>\n",
       "      <td>1</td>\n",
       "      <td>0.222222</td>\n",
       "      <td>1.0</td>\n",
       "      <td>0.0</td>\n",
       "      <td>0.0</td>\n",
       "      <td>0.0</td>\n",
       "      <td>1.0</td>\n",
       "      <td>0.0</td>\n",
       "      <td>1.0</td>\n",
       "      <td>0.0</td>\n",
       "      <td>1.0</td>\n",
       "      <td>0.0</td>\n",
       "      <td>0.0</td>\n",
       "      <td>0.0</td>\n",
       "      <td>0.0</td>\n",
       "    </tr>\n",
       "    <tr>\n",
       "      <th>3</th>\n",
       "      <td>0.0</td>\n",
       "      <td>0.0</td>\n",
       "      <td>1.0</td>\n",
       "      <td>0.0</td>\n",
       "      <td>0.0</td>\n",
       "      <td>1</td>\n",
       "      <td>0.333333</td>\n",
       "      <td>1.0</td>\n",
       "      <td>0.0</td>\n",
       "      <td>0.0</td>\n",
       "      <td>0.0</td>\n",
       "      <td>0.0</td>\n",
       "      <td>1.0</td>\n",
       "      <td>0.5</td>\n",
       "      <td>0.0</td>\n",
       "      <td>0.0</td>\n",
       "      <td>0.0</td>\n",
       "      <td>0.0</td>\n",
       "      <td>1.0</td>\n",
       "      <td>0.0</td>\n",
       "    </tr>\n",
       "    <tr>\n",
       "      <th>4</th>\n",
       "      <td>0.0</td>\n",
       "      <td>1.0</td>\n",
       "      <td>0.0</td>\n",
       "      <td>0.0</td>\n",
       "      <td>0.0</td>\n",
       "      <td>1</td>\n",
       "      <td>0.777778</td>\n",
       "      <td>0.0</td>\n",
       "      <td>1.0</td>\n",
       "      <td>0.0</td>\n",
       "      <td>0.0</td>\n",
       "      <td>1.0</td>\n",
       "      <td>0.0</td>\n",
       "      <td>0.5</td>\n",
       "      <td>0.0</td>\n",
       "      <td>1.0</td>\n",
       "      <td>0.0</td>\n",
       "      <td>0.0</td>\n",
       "      <td>0.0</td>\n",
       "      <td>0.0</td>\n",
       "    </tr>\n",
       "  </tbody>\n",
       "</table>\n",
       "</div>"
      ],
      "text/plain": [
       "   gynecoloy_encoded  anesthesia_encoded  TB & Chest disease:_encoded  \\\n",
       "0                0.0                 0.0                          1.0   \n",
       "1                0.0                 0.0                          1.0   \n",
       "2                0.0                 0.0                          1.0   \n",
       "3                0.0                 0.0                          1.0   \n",
       "4                0.0                 1.0                          0.0   \n",
       "\n",
       "   radiotherapy_encoded  surgery_encoded  cats staff_available  Age_encoded  \\\n",
       "0                   0.0              0.0                     0     0.444444   \n",
       "1                   0.0              0.0                     1     0.333333   \n",
       "2                   0.0              0.0                     1     0.222222   \n",
       "3                   0.0              0.0                     1     0.333333   \n",
       "4                   0.0              0.0                     1     0.777778   \n",
       "\n",
       "   Female_encoded  Male_encoded  Other_encoded  Trauma_encoded  \\\n",
       "0             1.0           0.0            0.0             0.0   \n",
       "1             1.0           0.0            0.0             0.0   \n",
       "2             1.0           0.0            0.0             0.0   \n",
       "3             1.0           0.0            0.0             0.0   \n",
       "4             0.0           1.0            0.0             0.0   \n",
       "\n",
       "   Urgent_encoded  Emergency_encoded  Severity of Illness_encoded  \\\n",
       "0             1.0                0.0                          1.0   \n",
       "1             1.0                0.0                          0.0   \n",
       "2             1.0                0.0                          1.0   \n",
       "3             0.0                1.0                          0.5   \n",
       "4             1.0                0.0                          0.5   \n",
       "\n",
       "   Diabetes_encoded  Heart disease_encoded  None_encoded  hcOther_encoded  \\\n",
       "0               0.0                    1.0           0.0              0.0   \n",
       "1               0.0                    0.0           1.0              0.0   \n",
       "2               0.0                    1.0           0.0              0.0   \n",
       "3               0.0                    0.0           0.0              0.0   \n",
       "4               0.0                    1.0           0.0              0.0   \n",
       "\n",
       "   Asthama_encoded  High Blood Pressure_encoded  \n",
       "0              0.0                          0.0  \n",
       "1              0.0                          0.0  \n",
       "2              0.0                          0.0  \n",
       "3              1.0                          0.0  \n",
       "4              0.0                          0.0  "
      ]
     },
     "execution_count": 15,
     "metadata": {},
     "output_type": "execute_result"
    }
   ],
   "source": [
    "dftrainfinalx.head()"
   ]
  },
  {
   "cell_type": "code",
   "execution_count": 16,
   "metadata": {},
   "outputs": [
    {
     "name": "stdout",
     "output_type": "stream",
     "text": [
      "gynecoloy_encoded\n",
      "[0. 1.]\n",
      "\n",
      "\n",
      "anesthesia_encoded\n",
      "[0. 1.]\n",
      "\n",
      "\n",
      "TB & Chest disease:_encoded\n",
      "[1. 0.]\n",
      "\n",
      "\n",
      "radiotherapy_encoded\n",
      "[0. 1.]\n",
      "\n",
      "\n",
      "surgery_encoded\n",
      "[0. 1.]\n",
      "\n",
      "\n",
      "cats staff_available\n",
      "[0 1]\n",
      "\n",
      "\n",
      "Age_encoded\n",
      "[0.44444444 0.33333333 0.22222222 0.77777778 0.11111111 0.55555556\n",
      " 0.66666667 0.88888889 1.         0.        ]\n",
      "\n",
      "\n",
      "Female_encoded\n",
      "[1. 0.]\n",
      "\n",
      "\n",
      "Male_encoded\n",
      "[0. 1.]\n",
      "\n",
      "\n",
      "Other_encoded\n",
      "[0. 1.]\n",
      "\n",
      "\n",
      "Trauma_encoded\n",
      "[0. 1.]\n",
      "\n",
      "\n",
      "Urgent_encoded\n",
      "[1. 0.]\n",
      "\n",
      "\n",
      "Emergency_encoded\n",
      "[0. 1.]\n",
      "\n",
      "\n",
      "Severity of Illness_encoded\n",
      "[1.  0.  0.5]\n",
      "\n",
      "\n",
      "Diabetes_encoded\n",
      "[0. 1.]\n",
      "\n",
      "\n"
     ]
    }
   ],
   "source": [
    "#explorando las variables unicas\n",
    "for i in range(15):\n",
    "    print (dftrainfinalx.columns[i])\n",
    "    print(dftrainfinalx.iloc[:,i].unique())\n",
    "    print(\"\\n\")"
   ]
  },
  {
   "cell_type": "code",
   "execution_count": 17,
   "metadata": {},
   "outputs": [
    {
     "data": {
      "image/png": "[encoded data removed]",
      "text/plain": [
       "<Figure size 432x288 with 2 Axes>"
      ]
     },
     "metadata": {
      "needs_background": "light"
     },
     "output_type": "display_data"
    }
   ],
   "source": [
    "corr = dftrainfinal.corr()\n",
    "sns.set(rc = {'figure.figsize':(20,20)})\n",
    "sns.heatmap(corr, \n",
    "        xticklabels=corr.columns,\n",
    "        yticklabels=corr.columns,\n",
    "        annot=True);"
   ]
  },
  {
   "cell_type": "code",
   "execution_count": 18,
   "metadata": {},
   "outputs": [
    {
     "data": {
      "text/plain": [
       "Index(['gynecoloy_encoded', 'anesthesia_encoded',\n",
       "       'TB & Chest disease:_encoded', 'radiotherapy_encoded',\n",
       "       'surgery_encoded', 'cats staff_available', 'Age_encoded',\n",
       "       'Female_encoded', 'Male_encoded', 'Other_encoded', 'Trauma_encoded',\n",
       "       'Urgent_encoded', 'Emergency_encoded', 'Severity of Illness_encoded',\n",
       "       'Diabetes_encoded', 'Heart disease_encoded', 'None_encoded',\n",
       "       'hcOther_encoded', 'Asthama_encoded', 'High Blood Pressure_encoded',\n",
       "       'cats stay'],\n",
       "      dtype='object')"
      ]
     },
     "execution_count": 18,
     "metadata": {},
     "output_type": "execute_result"
    }
   ],
   "source": [
    "dftrainfinal.columns"
   ]
  },
  {
   "cell_type": "code",
   "execution_count": 19,
   "metadata": {},
   "outputs": [],
   "source": [
    "#quitando las variables con menos correlacion segundo caso\n",
    "dftrainfinal2=dftrainfinal.drop(columns=[\"radiotherapy_encoded\",\"cats staff_available\",'Emergency_encoded','Diabetes_encoded','Heart disease_encoded','None_encoded','hcOther_encoded','Asthama_encoded','High Blood Pressure_encoded'])\n",
    "dftrainfinal2x=dftrainfinal2.drop(columns=\"cats stay\")\n",
    "dftrainfinal2y=dftrainfinal2[\"cats stay\"]"
   ]
  },
  {
   "cell_type": "code",
   "execution_count": 20,
   "metadata": {},
   "outputs": [],
   "source": [
    "#quitando las variables con menos correlacion tercer caso\n",
    "dftrainfinal3=dftrainfinal.drop(columns=[\"radiotherapy_encoded\",\"surgery_encoded\",\"cats staff_available\",'Other_encoded','Trauma_encoded','Urgent_encoded','Emergency_encoded','Severity of Illness_encoded','Diabetes_encoded','Heart disease_encoded','None_encoded','hcOther_encoded','Asthama_encoded','High Blood Pressure_encoded'])\n",
    "dftrainfinal3x=dftrainfinal3.drop(columns=\"cats stay\")\n",
    "dftrainfinal3y=dftrainfinal3[\"cats stay\"]"
   ]
  },
  {
   "cell_type": "code",
   "execution_count": 21,
   "metadata": {},
   "outputs": [
    {
     "data": {
      "text/html": [
       "<div>\n",
       "<style scoped>\n",
       "    .dataframe tbody tr th:only-of-type {\n",
       "        vertical-align: middle;\n",
       "    }\n",
       "\n",
       "    .dataframe tbody tr th {\n",
       "        vertical-align: top;\n",
       "    }\n",
       "\n",
       "    .dataframe thead th {\n",
       "        text-align: right;\n",
       "    }\n",
       "</style>\n",
       "<table border=\"1\" class=\"dataframe\">\n",
       "  <thead>\n",
       "    <tr style=\"text-align: right;\">\n",
       "      <th></th>\n",
       "      <th>gynecoloy_encoded</th>\n",
       "      <th>anesthesia_encoded</th>\n",
       "      <th>TB &amp; Chest disease:_encoded</th>\n",
       "      <th>surgery_encoded</th>\n",
       "      <th>Age_encoded</th>\n",
       "      <th>Female_encoded</th>\n",
       "      <th>Male_encoded</th>\n",
       "      <th>Other_encoded</th>\n",
       "      <th>Trauma_encoded</th>\n",
       "      <th>Urgent_encoded</th>\n",
       "      <th>Severity of Illness_encoded</th>\n",
       "      <th>cats stay</th>\n",
       "    </tr>\n",
       "  </thead>\n",
       "  <tbody>\n",
       "    <tr>\n",
       "      <th>0</th>\n",
       "      <td>0.0</td>\n",
       "      <td>0.0</td>\n",
       "      <td>1.0</td>\n",
       "      <td>0.0</td>\n",
       "      <td>0.444444</td>\n",
       "      <td>1.0</td>\n",
       "      <td>0.0</td>\n",
       "      <td>0.0</td>\n",
       "      <td>0.0</td>\n",
       "      <td>1.0</td>\n",
       "      <td>1.0</td>\n",
       "      <td>0</td>\n",
       "    </tr>\n",
       "    <tr>\n",
       "      <th>1</th>\n",
       "      <td>0.0</td>\n",
       "      <td>0.0</td>\n",
       "      <td>1.0</td>\n",
       "      <td>0.0</td>\n",
       "      <td>0.333333</td>\n",
       "      <td>1.0</td>\n",
       "      <td>0.0</td>\n",
       "      <td>0.0</td>\n",
       "      <td>0.0</td>\n",
       "      <td>1.0</td>\n",
       "      <td>0.0</td>\n",
       "      <td>1</td>\n",
       "    </tr>\n",
       "    <tr>\n",
       "      <th>2</th>\n",
       "      <td>0.0</td>\n",
       "      <td>0.0</td>\n",
       "      <td>1.0</td>\n",
       "      <td>0.0</td>\n",
       "      <td>0.222222</td>\n",
       "      <td>1.0</td>\n",
       "      <td>0.0</td>\n",
       "      <td>0.0</td>\n",
       "      <td>0.0</td>\n",
       "      <td>1.0</td>\n",
       "      <td>1.0</td>\n",
       "      <td>0</td>\n",
       "    </tr>\n",
       "    <tr>\n",
       "      <th>3</th>\n",
       "      <td>0.0</td>\n",
       "      <td>0.0</td>\n",
       "      <td>1.0</td>\n",
       "      <td>0.0</td>\n",
       "      <td>0.333333</td>\n",
       "      <td>1.0</td>\n",
       "      <td>0.0</td>\n",
       "      <td>0.0</td>\n",
       "      <td>0.0</td>\n",
       "      <td>0.0</td>\n",
       "      <td>0.5</td>\n",
       "      <td>0</td>\n",
       "    </tr>\n",
       "    <tr>\n",
       "      <th>4</th>\n",
       "      <td>0.0</td>\n",
       "      <td>1.0</td>\n",
       "      <td>0.0</td>\n",
       "      <td>0.0</td>\n",
       "      <td>0.777778</td>\n",
       "      <td>0.0</td>\n",
       "      <td>1.0</td>\n",
       "      <td>0.0</td>\n",
       "      <td>0.0</td>\n",
       "      <td>1.0</td>\n",
       "      <td>0.5</td>\n",
       "      <td>1</td>\n",
       "    </tr>\n",
       "  </tbody>\n",
       "</table>\n",
       "</div>"
      ],
      "text/plain": [
       "   gynecoloy_encoded  anesthesia_encoded  TB & Chest disease:_encoded  \\\n",
       "0                0.0                 0.0                          1.0   \n",
       "1                0.0                 0.0                          1.0   \n",
       "2                0.0                 0.0                          1.0   \n",
       "3                0.0                 0.0                          1.0   \n",
       "4                0.0                 1.0                          0.0   \n",
       "\n",
       "   surgery_encoded  Age_encoded  Female_encoded  Male_encoded  Other_encoded  \\\n",
       "0              0.0     0.444444             1.0           0.0            0.0   \n",
       "1              0.0     0.333333             1.0           0.0            0.0   \n",
       "2              0.0     0.222222             1.0           0.0            0.0   \n",
       "3              0.0     0.333333             1.0           0.0            0.0   \n",
       "4              0.0     0.777778             0.0           1.0            0.0   \n",
       "\n",
       "   Trauma_encoded  Urgent_encoded  Severity of Illness_encoded  cats stay  \n",
       "0             0.0             1.0                          1.0          0  \n",
       "1             0.0             1.0                          0.0          1  \n",
       "2             0.0             1.0                          1.0          0  \n",
       "3             0.0             0.0                          0.5          0  \n",
       "4             0.0             1.0                          0.5          1  "
      ]
     },
     "execution_count": 21,
     "metadata": {},
     "output_type": "execute_result"
    }
   ],
   "source": [
    "dftrainfinal2.head()"
   ]
  },
  {
   "cell_type": "code",
   "execution_count": 22,
   "metadata": {},
   "outputs": [
    {
     "data": {
      "image/png": "[encoded data removed]",
      "text/plain": [
       "<Figure size 1440x1440 with 2 Axes>"
      ]
     },
     "metadata": {},
     "output_type": "display_data"
    }
   ],
   "source": [
    "corr = dftrainfinal2.corr()\n",
    "sns.set(rc = {'figure.figsize':(20,20)})\n",
    "sns.heatmap(corr, \n",
    "        xticklabels=corr.columns,\n",
    "        yticklabels=corr.columns,\n",
    "        annot=True);"
   ]
  },
  {
   "cell_type": "markdown",
   "metadata": {},
   "source": [
    "APLICAMOS EL ENCODIGN PARA EL CSV DE \"TEST\""
   ]
  },
  {
   "cell_type": "code",
   "execution_count": 23,
   "metadata": {},
   "outputs": [
    {
     "data": {
      "text/html": [
       "<div>\n",
       "<style scoped>\n",
       "    .dataframe tbody tr th:only-of-type {\n",
       "        vertical-align: middle;\n",
       "    }\n",
       "\n",
       "    .dataframe tbody tr th {\n",
       "        vertical-align: top;\n",
       "    }\n",
       "\n",
       "    .dataframe thead th {\n",
       "        text-align: right;\n",
       "    }\n",
       "</style>\n",
       "<table border=\"1\" class=\"dataframe\">\n",
       "  <thead>\n",
       "    <tr style=\"text-align: right;\">\n",
       "      <th></th>\n",
       "      <th>Available Extra Rooms in Hospital</th>\n",
       "      <th>Department</th>\n",
       "      <th>Ward_Facility_Code</th>\n",
       "      <th>doctor_name</th>\n",
       "      <th>staff_available</th>\n",
       "      <th>patientid</th>\n",
       "      <th>Age</th>\n",
       "      <th>gender</th>\n",
       "      <th>Type of Admission</th>\n",
       "      <th>Severity of Illness</th>\n",
       "      <th>health_conditions</th>\n",
       "      <th>Visitors with Patient</th>\n",
       "      <th>Insurance</th>\n",
       "      <th>Admission_Deposit</th>\n",
       "    </tr>\n",
       "  </thead>\n",
       "  <tbody>\n",
       "    <tr>\n",
       "      <th>0</th>\n",
       "      <td>3</td>\n",
       "      <td>gynecology</td>\n",
       "      <td>F</td>\n",
       "      <td>Dr Olivia</td>\n",
       "      <td>10</td>\n",
       "      <td>2858</td>\n",
       "      <td>21-30</td>\n",
       "      <td>Female</td>\n",
       "      <td>Trauma</td>\n",
       "      <td>Moderate</td>\n",
       "      <td>Other</td>\n",
       "      <td>2</td>\n",
       "      <td>No</td>\n",
       "      <td>4749.640225</td>\n",
       "    </tr>\n",
       "    <tr>\n",
       "      <th>1</th>\n",
       "      <td>2</td>\n",
       "      <td>TB &amp; Chest disease</td>\n",
       "      <td>E</td>\n",
       "      <td>Dr John</td>\n",
       "      <td>4</td>\n",
       "      <td>65657</td>\n",
       "      <td>51-60</td>\n",
       "      <td>Female</td>\n",
       "      <td>Trauma</td>\n",
       "      <td>Moderate</td>\n",
       "      <td>Asthama</td>\n",
       "      <td>2</td>\n",
       "      <td>Yes</td>\n",
       "      <td>4122.261324</td>\n",
       "    </tr>\n",
       "  </tbody>\n",
       "</table>\n",
       "</div>"
      ],
      "text/plain": [
       "   Available Extra Rooms in Hospital          Department Ward_Facility_Code  \\\n",
       "0                                  3          gynecology                  F   \n",
       "1                                  2  TB & Chest disease                  E   \n",
       "\n",
       "  doctor_name  staff_available  patientid    Age  gender Type of Admission  \\\n",
       "0   Dr Olivia               10       2858  21-30  Female            Trauma   \n",
       "1     Dr John                4      65657  51-60  Female            Trauma   \n",
       "\n",
       "  Severity of Illness health_conditions  Visitors with Patient Insurance  \\\n",
       "0            Moderate             Other                      2        No   \n",
       "1            Moderate           Asthama                      2       Yes   \n",
       "\n",
       "   Admission_Deposit  \n",
       "0        4749.640225  \n",
       "1        4122.261324  "
      ]
     },
     "execution_count": 23,
     "metadata": {},
     "output_type": "execute_result"
    }
   ],
   "source": [
    "dftest = pd.read_csv(\"hospitalizaciones_test.csv\")\n",
    "dftest.head(2)"
   ]
  },
  {
   "cell_type": "code",
   "execution_count": 24,
   "metadata": {},
   "outputs": [
    {
     "name": "stdout",
     "output_type": "stream",
     "text": [
      "[array(['TB & Chest disease', 'anesthesia', 'gynecology', 'radiotherapy',\n",
      "       'surgery'], dtype=object)]\n"
     ]
    }
   ],
   "source": [
    "#Encoding de la columna Department\n",
    "enc = OneHotEncoder(sparse=False)\n",
    "departamentos=dftest[\"Department\"].values.reshape(-1,1)\n",
    "enc.fit(departamentos)\n",
    "enc2=enc.transform(departamentos)\n",
    "print(enc.categories_)\n",
    "dftest[\"gynecoloy_encoded\"]=enc2[:,0]\n",
    "dftest[\"anesthesia_encoded\"]=enc2[:,1]\n",
    "dftest[\"TB & Chest disease:_encoded\"]=enc2[:,2]\n",
    "dftest[\"radiotherapy_encoded\"]=enc2[:,3]\n",
    "dftest[\"surgery_encoded\"]=enc2[:,4]"
   ]
  },
  {
   "cell_type": "code",
   "execution_count": 25,
   "metadata": {},
   "outputs": [],
   "source": [
    "#Encoding de la columna staff_available\n",
    "bins=[-1,0,10]\n",
    "labels=[0,1]\n",
    "cats=pd.cut(dftest[\"staff_available\"],bins, labels = labels)\n",
    "dftest[\"cats staff_available\"]=cats\n",
    "dftest[\"cats staff_available\"]=pd.factorize(dftest['cats staff_available'])[0]"
   ]
  },
  {
   "cell_type": "code",
   "execution_count": 26,
   "metadata": {},
   "outputs": [],
   "source": [
    "#Encoding de la columna age y reescalando con Minmax\n",
    "y_encoder = LabelEncoder().fit(dftest['Age'])\n",
    "dftest[\"Age_encoded\"] = y_encoder.transform(dftest['Age'])"
   ]
  },
  {
   "cell_type": "code",
   "execution_count": 27,
   "metadata": {},
   "outputs": [],
   "source": [
    "#Encoding de la columna age y reescalando con Minmax\n",
    "y_encoder = LabelEncoder().fit(dftest['Age'])\n",
    "dftest[\"Age_encoded\"] = y_encoder.transform(dftest['Age'])\n",
    "scaler = MinMaxScaler() \n",
    "dftest[\"Age_encoded\"]=scaler.fit_transform(dftest[[\"Age_encoded\"]])"
   ]
  },
  {
   "cell_type": "code",
   "execution_count": 28,
   "metadata": {},
   "outputs": [
    {
     "name": "stdout",
     "output_type": "stream",
     "text": [
      "[array(['Female', 'Male', 'Other'], dtype=object)]\n"
     ]
    }
   ],
   "source": [
    "#Encoding de la columna gender\n",
    "enc = OneHotEncoder(sparse=False)\n",
    "genero=dftest[\"gender\"].values.reshape(-1,1)\n",
    "enc.fit(genero)\n",
    "enc2=enc.transform(genero)\n",
    "print(enc.categories_)\n",
    "dftest[\"Female_encoded\"]=enc2[:,0]\n",
    "dftest[\"Male_encoded\"]=enc2[:,1]\n",
    "dftest[\"Other_encoded\"]=enc2[:,2]"
   ]
  },
  {
   "cell_type": "code",
   "execution_count": 29,
   "metadata": {},
   "outputs": [
    {
     "name": "stdout",
     "output_type": "stream",
     "text": [
      "[array(['Emergency', 'Trauma', 'Urgent'], dtype=object)]\n"
     ]
    }
   ],
   "source": [
    "#Encoding de la columna Type of Admission\n",
    "enc = OneHotEncoder(sparse=False)\n",
    "genero=dftest[\"Type of Admission\"].values.reshape(-1,1)\n",
    "enc.fit(genero)\n",
    "enc2=enc.transform(genero)\n",
    "print(enc.categories_)\n",
    "dftest[\"Trauma_encoded\"]=enc2[:,0]\n",
    "dftest[\"Urgent_encoded\"]=enc2[:,1]\n",
    "dftest[\"Emergency_encoded\"]=enc2[:,2]"
   ]
  },
  {
   "cell_type": "code",
   "execution_count": 30,
   "metadata": {},
   "outputs": [],
   "source": [
    "#Encoding de la columna Severity of illnes y haciendo MinMaxScaler() \n",
    "dftest[\"Severity of Illness_encoded\"]=dftest[\"Severity of Illness\"]\n",
    "dftest[\"Severity of Illness_encoded\"].replace(\"Minor\",0,inplace=True)\n",
    "dftest[\"Severity of Illness_encoded\"].replace(\"Moderate\",1,inplace=True)\n",
    "dftest[\"Severity of Illness_encoded\"].replace(\"Extreme\",2,inplace=True)\n",
    "scaler = MinMaxScaler() \n",
    "dftest[\"Severity of Illness_encoded\"]=scaler.fit_transform(dftest[[\"Severity of Illness_encoded\"]])"
   ]
  },
  {
   "cell_type": "code",
   "execution_count": 31,
   "metadata": {},
   "outputs": [
    {
     "name": "stdout",
     "output_type": "stream",
     "text": [
      "[array(['Asthama', 'Diabetes', 'Heart disease', 'High Blood Pressure',\n",
      "       'None', 'Other'], dtype=object)]\n"
     ]
    }
   ],
   "source": [
    "#Encodign de la columna health_conditions\n",
    "enc = OneHotEncoder(sparse=False)\n",
    "genero=dftest[\"health_conditions\"].values.reshape(-1,1)\n",
    "enc.fit(genero)\n",
    "enc2=enc.transform(genero)\n",
    "print(enc.categories_)\n",
    "dftest[\"Diabetes_encoded\"]=enc2[:,0]\n",
    "dftest[\"Heart disease_encoded\"]=enc2[:,1]\n",
    "dftest[\"None_encoded\"]=enc2[:,2]\n",
    "dftest[\"hcOther_encoded\"]=enc2[:,3]\n",
    "dftest[\"Asthama_encoded\"]=enc2[:,4]\n",
    "dftest[\"High Blood Pressure_encoded\"]=enc2[:,5]"
   ]
  },
  {
   "cell_type": "markdown",
   "metadata": {},
   "source": [
    "SE OBTIENE 3 DIFERENTES DATAFRAME CON DISTINTAS CANTIDA DE COLUMNA PARA MULTIPLES EVALUACIONES"
   ]
  },
  {
   "cell_type": "code",
   "execution_count": 32,
   "metadata": {},
   "outputs": [],
   "source": [
    "dftestfinal=dftest.drop(columns=list(dftrain.columns)[0:14])"
   ]
  },
  {
   "cell_type": "code",
   "execution_count": 33,
   "metadata": {},
   "outputs": [],
   "source": [
    "#quitando las variables con menos correlacion para segundo caso\n",
    "dftestfinal2=dftestfinal.drop(columns=[\"radiotherapy_encoded\",\"cats staff_available\",'Emergency_encoded','Diabetes_encoded','Heart disease_encoded','None_encoded','hcOther_encoded','Asthama_encoded','High Blood Pressure_encoded'])"
   ]
  },
  {
   "cell_type": "code",
   "execution_count": 34,
   "metadata": {},
   "outputs": [],
   "source": [
    "#quitando las variables con menos correlacion tercer caso\n",
    "dftestfinal3=dftestfinal.drop(columns=[\"radiotherapy_encoded\",\"surgery_encoded\",\"cats staff_available\",'Other_encoded','Trauma_encoded','Urgent_encoded','Emergency_encoded','Severity of Illness_encoded','Diabetes_encoded','Heart disease_encoded','None_encoded','hcOther_encoded','Asthama_encoded','High Blood Pressure_encoded'])"
   ]
  },
  {
   "cell_type": "markdown",
   "metadata": {},
   "source": [
    "PROBANDO MODELOS"
   ]
  },
  {
   "cell_type": "markdown",
   "metadata": {},
   "source": [
    "PRIMERA PRUEBA :"
   ]
  },
  {
   "cell_type": "code",
   "execution_count": 35,
   "metadata": {},
   "outputs": [
    {
     "name": "stdout",
     "output_type": "stream",
     "text": [
      "El accuracy promedio es : 0.5834829268292683\n",
      "El accuracy por division es : [0.58523171 0.57939024 0.58457317 0.58407317 0.58414634]\n",
      "El recall promedio es : 0.8406442790861627\n",
      "El recall por division es : [0.85312139 0.81618151 0.84949983 0.84296145 0.84145721]\n"
     ]
    }
   ],
   "source": [
    "#Probamos para regresion logistica para trainfinal accuracy primera entrega\n",
    "tree = LogisticRegression(max_iter=1000)\n",
    "tree_scores = cross_val_score(tree, dftrainfinalx, dftrainfinaly, cv=5,scoring=\"accuracy\")\n",
    "print(f\"El accuracy promedio es : {tree_scores.mean()}\")\n",
    "print(f\"El accuracy por division es : {tree_scores}\")\n",
    "#Probamos para regresion logistica para trainfinal recall\n",
    "tree = LogisticRegression(max_iter=1000)\n",
    "tree_scores = cross_val_score(tree, dftrainfinalx, dftrainfinaly, cv=5,scoring=\"recall\")\n",
    "print(f\"El recall promedio es : {tree_scores.mean()}\")\n",
    "print(f\"El recall por division es : {tree_scores}\")"
   ]
  },
  {
   "cell_type": "code",
   "execution_count": 36,
   "metadata": {},
   "outputs": [
    {
     "name": "stdout",
     "output_type": "stream",
     "text": [
      "El accuracy es : 0.5833780487804878\n",
      "El recall es : 0.8436550568484354\n"
     ]
    }
   ],
   "source": [
    "# Entrenamos el modelo de regresion logistica\n",
    "clf = LogisticRegression(max_iter=1000)\n",
    "clf.fit(dftrainfinalx,dftrainfinaly)\n",
    "y_pred = clf.predict(dftrainfinalx)\n",
    "print(f\"El accuracy es : {accuracy_score(dftrainfinaly,y_pred)}\")\n",
    "print(f\"El recall es : {recall_score(dftrainfinaly,y_pred)}\")"
   ]
  },
  {
   "cell_type": "code",
   "execution_count": 37,
   "metadata": {},
   "outputs": [],
   "source": [
    "#exportando a csv la prediccion con hospitalizaciones_test\n",
    "y_predtest=clf.predict(dftestfinal)\n",
    "y_predtestcsv=pd.DataFrame(list(y_predtest),columns=[\"pred\"])\n",
    "y_predtestcsv.to_csv(\"pred/isaacpc94.csv\",index=False)"
   ]
  },
  {
   "cell_type": "markdown",
   "metadata": {},
   "source": [
    "SEGUNDA PRUEBA :"
   ]
  },
  {
   "cell_type": "code",
   "execution_count": 80,
   "metadata": {},
   "outputs": [
    {
     "name": "stdout",
     "output_type": "stream",
     "text": [
      "El accuracy promedio es : 0.5834829268292683\n",
      "El accuracy por division es : [0.58523171 0.57939024 0.58457317 0.58407317 0.58414634]\n",
      "El recall promedio es : 0.8406442790861627\n",
      "El recall por division es : [0.85312139 0.81618151 0.84949983 0.84296145 0.84145721]\n"
     ]
    }
   ],
   "source": [
    "#Probamos para regresion logistica para trainfinal2 accuracy\n",
    "X_train, X_test, y_train, y_test = train_test_split(dftrainfinalx, dftrainfinaly, test_size=0.70, random_state=40)\n",
    "tree = LogisticRegression(max_iter=1000)\n",
    "tree_scores = cross_val_score(tree, dftrainfinalx, dftrainfinaly, cv=5,scoring=\"accuracy\")\n",
    "print(f\"El accuracy promedio es : {tree_scores.mean()}\")\n",
    "print(f\"El accuracy por division es : {tree_scores}\")\n",
    "#Probamos para regresion logistica para trainfinal2 recall\n",
    "tree = LogisticRegression(max_iter=1000)\n",
    "tree_scores = cross_val_score(tree, dftrainfinalx, dftrainfinaly, cv=5,scoring=\"recall\")\n",
    "print(f\"El recall promedio es : {tree_scores.mean()}\")\n",
    "print(f\"El recall por division es : {tree_scores}\")"
   ]
  },
  {
   "cell_type": "code",
   "execution_count": 85,
   "metadata": {},
   "outputs": [
    {
     "name": "stdout",
     "output_type": "stream",
     "text": [
      "El accuracy es : 0.5842613240418119\n",
      "El recall es : 0.8749713480664837\n",
      "El accuracy es : 0.5847560975609756\n",
      "El recall es : 0.8776275393559344\n"
     ]
    }
   ],
   "source": [
    "# Entrenamos el modelo de regresion logistica\n",
    "X_train, X_test, y_train, y_test = train_test_split(dftrainfinal3x, dftrainfinal3y, test_size=0.30, random_state=40)\n",
    "clf = LogisticRegression(max_iter=1000)\n",
    "clf.fit(X_train,y_train)\n",
    "y_predtrain = clf.predict(X_train)\n",
    "y_predtest=clf.predict(X_test)\n",
    "print(f\"El accuracy es : {accuracy_score(y_train,y_predtrain)}\")\n",
    "print(f\"El recall es : {recall_score(y_train,y_predtrain)}\")\n",
    "print(f\"El accuracy es : {accuracy_score(y_test,y_predtest)}\")\n",
    "print(f\"El recall es : {recall_score(y_test,y_predtest)}\")\n"
   ]
  },
  {
   "cell_type": "code",
   "execution_count": 40,
   "metadata": {},
   "outputs": [],
   "source": [
    "#exportando a csv la prediccion con hospitalizaciones_test\n",
    "y_predtest=clf.predict(dftestfinal2)\n",
    "y_predtestcsv=pd.DataFrame(list(y_predtest),columns=[\"pred\"])\n",
    "y_predtestcsv.to_csv(\"pred/isaacpc94v2.csv\",index=False)"
   ]
  },
  {
   "cell_type": "markdown",
   "metadata": {},
   "source": [
    "TERCERA PRUEBA :"
   ]
  },
  {
   "cell_type": "code",
   "execution_count": 41,
   "metadata": {},
   "outputs": [
    {
     "name": "stdout",
     "output_type": "stream",
     "text": [
      "El accuracy promedio es : 0.584409756097561\n",
      "El accuracy por division es : [0.58736585 0.58191463 0.58567073 0.58453659 0.58256098]\n",
      "El recall promedio es : 0.8757673779284982\n",
      "El recall por division es : [0.89152947 0.86120627 0.87905957 0.87187518 0.87516639]\n"
     ]
    }
   ],
   "source": [
    "#Probamos para regresion logistica para trainfinal3 accuracy\n",
    "tree = LogisticRegression(max_iter=1000)\n",
    "tree_scores = cross_val_score(tree, dftrainfinal3x, dftrainfinal3y, cv=5,scoring=\"accuracy\")\n",
    "print(f\"El accuracy promedio es : {tree_scores.mean()}\")\n",
    "print(f\"El accuracy por division es : {tree_scores}\")\n",
    "#Probamos para regresion logistica para trainfinal3 recall\n",
    "tree = LogisticRegression(max_iter=1000)\n",
    "tree_scores = cross_val_score(tree, dftrainfinal3x, dftrainfinal3y, cv=5,scoring=\"recall\")\n",
    "print(f\"El recall promedio es : {tree_scores.mean()}\")\n",
    "print(f\"El recall por division es : {tree_scores}\")"
   ]
  },
  {
   "cell_type": "code",
   "execution_count": 42,
   "metadata": {},
   "outputs": [
    {
     "name": "stdout",
     "output_type": "stream",
     "text": [
      "El accuracy es : 0.584409756097561\n",
      "El recall es : 0.8757673755755316\n"
     ]
    }
   ],
   "source": [
    "# Entrenamos el modelo de regresion logistica\n",
    "clf = LogisticRegression(max_iter=1000)\n",
    "clf.fit(dftrainfinal3x,dftrainfinal3y)\n",
    "y_pred = clf.predict(dftrainfinal3x)\n",
    "print(f\"El accuracy es : {accuracy_score(dftrainfinal3y,y_pred)}\")\n",
    "print(f\"El recall es : {recall_score(dftrainfinal3y,y_pred)}\")"
   ]
  },
  {
   "cell_type": "code",
   "execution_count": 43,
   "metadata": {},
   "outputs": [],
   "source": [
    "#exportando a csv la prediccion con hospitalizaciones_test\n",
    "y_predtest=clf.predict(dftestfinal3)\n",
    "y_predtestcsv=pd.DataFrame(list(y_predtest),columns=[\"pred\"])\n",
    "y_predtestcsv.to_csv(\"pred/isaacpc94v3.csv\",index=False)"
   ]
  },
  {
   "cell_type": "markdown",
   "metadata": {},
   "source": [
    "CUARTA PRUEBA :"
   ]
  },
  {
   "cell_type": "code",
   "execution_count": null,
   "metadata": {},
   "outputs": [],
   "source": [
    "lr=LogisticRegression(max_iter=1000)\n",
    "# Hyperparameter search space\n",
    "search_space = {\n",
    "    'penalty': ['none','l2', 'l1', 'elasticnet'],\n",
    "}\n",
    "\n",
    "# Probamos la estrategia grid search\n",
    "\n",
    "from sklearn.model_selection import GridSearchCV\n",
    "\n",
    "# Le pasamos la grilla que creamos\n",
    "model = GridSearchCV(lr, param_grid=search_space, cv=5,scoring=\"accuracy\")\n",
    "\n",
    "# Entrenamos\n",
    "model.fit(dftrainfinalx, dfy)\n",
    "model.best_params_"
   ]
  },
  {
   "cell_type": "code",
   "execution_count": 58,
   "metadata": {},
   "outputs": [
    {
     "data": {
      "text/plain": [
       "{'svc__kernel': 'rbf'}"
      ]
     },
     "execution_count": 58,
     "metadata": {},
     "output_type": "execute_result"
    }
   ],
   "source": [
    "\n",
    "from sklearn.model_selection import GridSearchCV\n",
    "from scipy import stats\n",
    "\n",
    "# Hyperparameter search space\n",
    "search_space = {\n",
    "    'svc__kernel': ['sigmoid', 'rbf'],\n",
    "    \n",
    "}\n",
    "\n",
    "# Probamos la estrategia grid search\n",
    "\n",
    "from sklearn.model_selection import GridSearchCV\n",
    "\n",
    "# Le pasamos la grilla que creamos\n",
    "model = RandomizedSearchCV(pipe_svm, search_space, cv=3,n_iter=2,scoring=\"accuracy\")\n",
    "\n",
    "# Entrenamos\n",
    "model.fit(dftrainfinalx10.drop(columns=\"cats stay\"), dftrainfinalx10[\"cats stay\"])\n",
    "model.best_params_"
   ]
  },
  {
   "cell_type": "code",
   "execution_count": 47,
   "metadata": {},
   "outputs": [],
   "source": [
    "#Prediccion numero 4 Para trainfinal 2\n",
    "pipe_svm = Pipeline([('pca', PCA(n_components=2)),\n",
    "\t\t\t('svc', svm.SVC())])"
   ]
  },
  {
   "cell_type": "code",
   "execution_count": 51,
   "metadata": {},
   "outputs": [],
   "source": [
    "dftraifinal2f=dftrainfinal2.sample(frac=0.05)\n",
    "dftrainfinal2xf=dftraifinal2f.drop(columns=\"cats stay\")\n",
    "dftrainfinal2yf=dftraifinal2f[\"cats stay\"]"
   ]
  },
  {
   "cell_type": "code",
   "execution_count": 52,
   "metadata": {},
   "outputs": [],
   "source": [
    "# Lo entrenamos\n",
    "\n",
    "pipe_svm.fit(dftrainfinal2xf,dftrainfinal2yf)\n",
    "y_predtest=pipe_svm.predict(dftrainfinal2x)"
   ]
  },
  {
   "cell_type": "code",
   "execution_count": 54,
   "metadata": {},
   "outputs": [
    {
     "name": "stdout",
     "output_type": "stream",
     "text": [
      "acurracy es : 0.6229658536585366\n",
      "recall es : 1.0\n"
     ]
    }
   ],
   "source": [
    "print(f\"acurracy es : {accuracy_score(dftrainfinal2y,y_predtest)}\")\n",
    "print(f\"recall es : {recall_score(dftrainfinal2y,y_predtest)}\")"
   ]
  },
  {
   "cell_type": "code",
   "execution_count": 57,
   "metadata": {},
   "outputs": [],
   "source": [
    "#exportando a csv la prediccion para testinal2  con pipeline(PCA,SVC) con hospitalizaciones_test\n",
    "y_predtest=pipe_svm.predict(dftestfinal2)\n",
    "y_predtestcsv=pd.DataFrame(list(y_predtest),columns=[\"pred\"])\n",
    "y_predtestcsv.to_csv(\"pred/isaacpc94v4.csv\",index=False)"
   ]
  },
  {
   "cell_type": "markdown",
   "metadata": {},
   "source": [
    "QUINTA PRUEBA :"
   ]
  },
  {
   "cell_type": "code",
   "execution_count": 87,
   "metadata": {},
   "outputs": [],
   "source": [
    "#Prediccion numero 5 Para trainfinal 2\n",
    "X_train, X_test, y_train, y_test = train_test_split(dftrainfinal3x, dftrainfinal3y, test_size=0.30, random_state=40)\n",
    "pipe_svm = Pipeline([('pca', PCA(n_components=3)),\n",
    "\t\t\t('svc', svm.SVC())])"
   ]
  },
  {
   "cell_type": "code",
   "execution_count": 59,
   "metadata": {},
   "outputs": [],
   "source": [
    "dftraifinal2f=dftrainfinal2.sample(frac=0.05)\n",
    "dftrainfinal2xf=dftraifinal2f.drop(columns=\"cats stay\")\n",
    "dftrainfinal2yf=dftraifinal2f[\"cats stay\"]"
   ]
  },
  {
   "cell_type": "code",
   "execution_count": 89,
   "metadata": {},
   "outputs": [],
   "source": [
    "# Lo entrenamos\n",
    "\n",
    "pipe_svm.fit(X_train,y_train)\n",
    "y_predtrain=pipe_svm.predict(X_train)"
   ]
  },
  {
   "cell_type": "code",
   "execution_count": 61,
   "metadata": {},
   "outputs": [
    {
     "name": "stdout",
     "output_type": "stream",
     "text": [
      "acurracy es : 0.621919512195122\n",
      "recall es : 0.9761800357064554\n"
     ]
    }
   ],
   "source": [
    "print(f\"acurracy es : {accuracy_score(y_train,y_predtrain)}\")\n",
    "print(f\"recall es : {recall_score(y_train,y_predtrain)}\")"
   ]
  },
  {
   "cell_type": "code",
   "execution_count": 62,
   "metadata": {},
   "outputs": [],
   "source": [
    "#exportando a csv la prediccion para testinal2  con pipeline(PCA,SVC) con hospitalizaciones_test\n",
    "y_predtest=pipe_svm.predict(dftestfinal2)\n",
    "y_predtestcsv=pd.DataFrame(list(y_predtest),columns=[\"pred\"])\n",
    "y_predtestcsv.to_csv(\"pred/isaacpc94v5.csv\",index=False)"
   ]
  },
  {
   "cell_type": "markdown",
   "metadata": {},
   "source": [
    "SEXTA PRUEBA :"
   ]
  },
  {
   "cell_type": "code",
   "execution_count": 63,
   "metadata": {},
   "outputs": [],
   "source": [
    "#Prediccion numero 6 Para trainfinal 2\n",
    "pipe_svm = Pipeline([('pca', PCA(n_components=4)),\n",
    "\t\t\t('svc', svm.SVC())])"
   ]
  },
  {
   "cell_type": "code",
   "execution_count": 64,
   "metadata": {},
   "outputs": [],
   "source": [
    "dftraifinal2f=dftrainfinal2.sample(frac=0.05)\n",
    "dftrainfinal2xf=dftraifinal2f.drop(columns=\"cats stay\")\n",
    "dftrainfinal2yf=dftraifinal2f[\"cats stay\"]"
   ]
  },
  {
   "cell_type": "code",
   "execution_count": 65,
   "metadata": {},
   "outputs": [],
   "source": [
    "# Lo entrenamos\n",
    "pipe_svm.fit(dftrainfinal2xf,dftrainfinal2yf)\n",
    "y_predtest=pipe_svm.predict(dftrainfinal2x)"
   ]
  },
  {
   "cell_type": "code",
   "execution_count": 66,
   "metadata": {},
   "outputs": [
    {
     "name": "stdout",
     "output_type": "stream",
     "text": [
      "acurracy es : 0.621919512195122\n",
      "recall es : 0.9761800357064554\n"
     ]
    }
   ],
   "source": [
    "print(f\"acurracy es : {accuracy_score(dftrainfinal2y,y_predtest)}\")\n",
    "print(f\"recall es : {recall_score(dftrainfinal2y,y_predtest)}\")"
   ]
  },
  {
   "cell_type": "code",
   "execution_count": 67,
   "metadata": {},
   "outputs": [],
   "source": [
    "#exportando a csv la prediccion para testinal2  con pipeline(PCA,SVC) con hospitalizaciones_test\n",
    "y_predtest=pipe_svm.predict(dftestfinal2)\n",
    "y_predtestcsv=pd.DataFrame(list(y_predtest),columns=[\"pred\"])\n",
    "y_predtestcsv.to_csv(\"pred/isaacpc94v6.csv\",index=False)"
   ]
  },
  {
   "cell_type": "markdown",
   "metadata": {},
   "source": [
    "SEPTIMA PRUEBA :"
   ]
  },
  {
   "cell_type": "code",
   "execution_count": 35,
   "metadata": {},
   "outputs": [],
   "source": [
    "#Prediccion numero 7 Para trainfinal 2\n",
    "pipe_dtc = Pipeline([('pca', PCA(n_components=4)),\n",
    "\t\t\t('dtc', DecisionTreeClassifier(max_depth=5))])\n"
   ]
  },
  {
   "cell_type": "code",
   "execution_count": 36,
   "metadata": {},
   "outputs": [],
   "source": [
    "dftraifinal2f=dftrainfinal2.sample(frac=1)\n",
    "dftrainfinal2xf=dftraifinal2f.drop(columns=\"cats stay\")\n",
    "dftrainfinal2yf=dftraifinal2f[\"cats stay\"]"
   ]
  },
  {
   "cell_type": "code",
   "execution_count": 37,
   "metadata": {},
   "outputs": [],
   "source": [
    "# Lo entrenamos\n",
    "pipe_dtc.fit(dftrainfinal2xf,dftrainfinal2yf)\n",
    "y_predtest=pipe_dtc.predict(dftrainfinal2x)"
   ]
  },
  {
   "cell_type": "code",
   "execution_count": 39,
   "metadata": {},
   "outputs": [
    {
     "data": {
      "text/plain": [
       "array(['gynecoloy_encoded', 'anesthesia_encoded',\n",
       "       'TB & Chest disease:_encoded', 'surgery_encoded', 'Age_encoded',\n",
       "       'Female_encoded', 'Male_encoded', 'Other_encoded',\n",
       "       'Trauma_encoded', 'Urgent_encoded', 'Severity of Illness_encoded'],\n",
       "      dtype=object)"
      ]
     },
     "execution_count": 39,
     "metadata": {},
     "output_type": "execute_result"
    }
   ],
   "source": [
    "pipe_dtc.feature_names_in_"
   ]
  },
  {
   "cell_type": "code",
   "execution_count": 38,
   "metadata": {},
   "outputs": [
    {
     "name": "stdout",
     "output_type": "stream",
     "text": [
      "acurracy es : 0.6568829268292683\n",
      "recall es : 0.9860736993767031\n"
     ]
    }
   ],
   "source": [
    "print(f\"acurracy es : {accuracy_score(dftrainfinal2y,y_predtest)}\")\n",
    "print(f\"recall es : {recall_score(dftrainfinal2y,y_predtest)}\")"
   ]
  },
  {
   "cell_type": "markdown",
   "metadata": {},
   "source": [
    "OCTABA  PRUEBA :"
   ]
  },
  {
   "cell_type": "code",
   "execution_count": 55,
   "metadata": {},
   "outputs": [],
   "source": [
    "#Prediccion numero 8 Para trainfinal 2 / segunda entrega\n",
    "tree= DecisionTreeClassifier(max_depth=7)\n",
    "# Lo entrenamos\n",
    "tree.fit(dftrainfinal2x,dftrainfinal2y)\n",
    "y_predtest=pipe_dtc.predict(dftrainfinal2x)"
   ]
  },
  {
   "cell_type": "code",
   "execution_count": 58,
   "metadata": {},
   "outputs": [],
   "source": [
    "param_dist = {'criterion':[\"gini\", \"entropy\", \"log_loss\"],\n",
    "              'max_depth': [1,2,3,4,5,6,7,8,9,10], \n",
    "}"
   ]
  },
  {
   "cell_type": "code",
   "execution_count": 59,
   "metadata": {},
   "outputs": [
    {
     "name": "stderr",
     "output_type": "stream",
     "text": [
      "c:\\Users\\Lenovo\\AppData\\Local\\Programs\\Python\\Python310\\lib\\site-packages\\sklearn\\model_selection\\_search.py:306: UserWarning: The total space of parameters 30 is smaller than n_iter=100. Running 30 iterations. For exhaustive searches, use GridSearchCV.\n",
      "  warnings.warn(\n"
     ]
    },
    {
     "data": {
      "text/html": [
       "<style>#sk-container-id-1 {color: black;background-color: white;}#sk-container-id-1 pre{padding: 0;}#sk-container-id-1 div.sk-toggleable {background-color: white;}#sk-container-id-1 label.sk-toggleable__label {cursor: pointer;display: block;width: 100%;margin-bottom: 0;padding: 0.3em;box-sizing: border-box;text-align: center;}#sk-container-id-1 label.sk-toggleable__label-arrow:before {content: \"▸\";float: left;margin-right: 0.25em;color: #696969;}#sk-container-id-1 label.sk-toggleable__label-arrow:hover:before {color: black;}#sk-container-id-1 div.sk-estimator:hover label.sk-toggleable__label-arrow:before {color: black;}#sk-container-id-1 div.sk-toggleable__content {max-height: 0;max-width: 0;overflow: hidden;text-align: left;background-color: #f0f8ff;}#sk-container-id-1 div.sk-toggleable__content pre {margin: 0.2em;color: black;border-radius: 0.25em;background-color: #f0f8ff;}#sk-container-id-1 input.sk-toggleable__control:checked~div.sk-toggleable__content {max-height: 200px;max-width: 100%;overflow: auto;}#sk-container-id-1 input.sk-toggleable__control:checked~label.sk-toggleable__label-arrow:before {content: \"▾\";}#sk-container-id-1 div.sk-estimator input.sk-toggleable__control:checked~label.sk-toggleable__label {background-color: #d4ebff;}#sk-container-id-1 div.sk-label input.sk-toggleable__control:checked~label.sk-toggleable__label {background-color: #d4ebff;}#sk-container-id-1 input.sk-hidden--visually {border: 0;clip: rect(1px 1px 1px 1px);clip: rect(1px, 1px, 1px, 1px);height: 1px;margin: -1px;overflow: hidden;padding: 0;position: absolute;width: 1px;}#sk-container-id-1 div.sk-estimator {font-family: monospace;background-color: #f0f8ff;border: 1px dotted black;border-radius: 0.25em;box-sizing: border-box;margin-bottom: 0.5em;}#sk-container-id-1 div.sk-estimator:hover {background-color: #d4ebff;}#sk-container-id-1 div.sk-parallel-item::after {content: \"\";width: 100%;border-bottom: 1px solid gray;flex-grow: 1;}#sk-container-id-1 div.sk-label:hover label.sk-toggleable__label {background-color: #d4ebff;}#sk-container-id-1 div.sk-serial::before {content: \"\";position: absolute;border-left: 1px solid gray;box-sizing: border-box;top: 0;bottom: 0;left: 50%;z-index: 0;}#sk-container-id-1 div.sk-serial {display: flex;flex-direction: column;align-items: center;background-color: white;padding-right: 0.2em;padding-left: 0.2em;position: relative;}#sk-container-id-1 div.sk-item {position: relative;z-index: 1;}#sk-container-id-1 div.sk-parallel {display: flex;align-items: stretch;justify-content: center;background-color: white;position: relative;}#sk-container-id-1 div.sk-item::before, #sk-container-id-1 div.sk-parallel-item::before {content: \"\";position: absolute;border-left: 1px solid gray;box-sizing: border-box;top: 0;bottom: 0;left: 50%;z-index: -1;}#sk-container-id-1 div.sk-parallel-item {display: flex;flex-direction: column;z-index: 1;position: relative;background-color: white;}#sk-container-id-1 div.sk-parallel-item:first-child::after {align-self: flex-end;width: 50%;}#sk-container-id-1 div.sk-parallel-item:last-child::after {align-self: flex-start;width: 50%;}#sk-container-id-1 div.sk-parallel-item:only-child::after {width: 0;}#sk-container-id-1 div.sk-dashed-wrapped {border: 1px dashed gray;margin: 0 0.4em 0.5em 0.4em;box-sizing: border-box;padding-bottom: 0.4em;background-color: white;}#sk-container-id-1 div.sk-label label {font-family: monospace;font-weight: bold;display: inline-block;line-height: 1.2em;}#sk-container-id-1 div.sk-label-container {text-align: center;}#sk-container-id-1 div.sk-container {/* jupyter's `normalize.less` sets `[hidden] { display: none; }` but bootstrap.min.css set `[hidden] { display: none !important; }` so we also need the `!important` here to be able to override the default hidden behavior on the sphinx rendered scikit-learn.org. See: https://github.com/scikit-learn/scikit-learn/issues/21755 */display: inline-block !important;position: relative;}#sk-container-id-1 div.sk-text-repr-fallback {display: none;}</style><div id=\"sk-container-id-1\" class=\"sk-top-container\"><div class=\"sk-text-repr-fallback\"><pre>RandomizedSearchCV(cv=5, estimator=DecisionTreeClassifier(), n_iter=100,\n",
       "                   param_distributions={&#x27;criterion&#x27;: [&#x27;gini&#x27;, &#x27;entropy&#x27;,\n",
       "                                                      &#x27;log_loss&#x27;],\n",
       "                                        &#x27;max_depth&#x27;: [1, 2, 3, 4, 5, 6, 7, 8, 9,\n",
       "                                                      10]},\n",
       "                   random_state=0)</pre><b>In a Jupyter environment, please rerun this cell to show the HTML representation or trust the notebook. <br />On GitHub, the HTML representation is unable to render, please try loading this page with nbviewer.org.</b></div><div class=\"sk-container\" hidden><div class=\"sk-item sk-dashed-wrapped\"><div class=\"sk-label-container\"><div class=\"sk-label sk-toggleable\"><input class=\"sk-toggleable__control sk-hidden--visually\" id=\"sk-estimator-id-1\" type=\"checkbox\" ><label for=\"sk-estimator-id-1\" class=\"sk-toggleable__label sk-toggleable__label-arrow\">RandomizedSearchCV</label><div class=\"sk-toggleable__content\"><pre>RandomizedSearchCV(cv=5, estimator=DecisionTreeClassifier(), n_iter=100,\n",
       "                   param_distributions={&#x27;criterion&#x27;: [&#x27;gini&#x27;, &#x27;entropy&#x27;,\n",
       "                                                      &#x27;log_loss&#x27;],\n",
       "                                        &#x27;max_depth&#x27;: [1, 2, 3, 4, 5, 6, 7, 8, 9,\n",
       "                                                      10]},\n",
       "                   random_state=0)</pre></div></div></div><div class=\"sk-parallel\"><div class=\"sk-parallel-item\"><div class=\"sk-item\"><div class=\"sk-label-container\"><div class=\"sk-label sk-toggleable\"><input class=\"sk-toggleable__control sk-hidden--visually\" id=\"sk-estimator-id-2\" type=\"checkbox\" ><label for=\"sk-estimator-id-2\" class=\"sk-toggleable__label sk-toggleable__label-arrow\">estimator: DecisionTreeClassifier</label><div class=\"sk-toggleable__content\"><pre>DecisionTreeClassifier()</pre></div></div></div><div class=\"sk-serial\"><div class=\"sk-item\"><div class=\"sk-estimator sk-toggleable\"><input class=\"sk-toggleable__control sk-hidden--visually\" id=\"sk-estimator-id-3\" type=\"checkbox\" ><label for=\"sk-estimator-id-3\" class=\"sk-toggleable__label sk-toggleable__label-arrow\">DecisionTreeClassifier</label><div class=\"sk-toggleable__content\"><pre>DecisionTreeClassifier()</pre></div></div></div></div></div></div></div></div></div></div>"
      ],
      "text/plain": [
       "RandomizedSearchCV(cv=5, estimator=DecisionTreeClassifier(), n_iter=100,\n",
       "                   param_distributions={'criterion': ['gini', 'entropy',\n",
       "                                                      'log_loss'],\n",
       "                                        'max_depth': [1, 2, 3, 4, 5, 6, 7, 8, 9,\n",
       "                                                      10]},\n",
       "                   random_state=0)"
      ]
     },
     "execution_count": 59,
     "metadata": {},
     "output_type": "execute_result"
    }
   ],
   "source": [
    "from sklearn.model_selection import RandomizedSearchCV\n",
    "\n",
    "tree= DecisionTreeClassifier()\n",
    "model = RandomizedSearchCV(tree, param_dist,n_iter=100, random_state=0, cv=5)\n",
    "\n",
    "# Entrenamos knn con la grilla\n",
    "model.fit(dftrainfinal2x, dftrainfinal2y)"
   ]
  },
  {
   "cell_type": "code",
   "execution_count": 60,
   "metadata": {},
   "outputs": [
    {
     "data": {
      "text/plain": [
       "{'max_depth': 9, 'criterion': 'gini'}"
      ]
     },
     "execution_count": 60,
     "metadata": {},
     "output_type": "execute_result"
    }
   ],
   "source": [
    "model.best_params_"
   ]
  },
  {
   "cell_type": "code",
   "execution_count": 76,
   "metadata": {},
   "outputs": [],
   "source": [
    "tree2=DecisionTreeClassifier(max_depth=9,criterion=\"gini\")\n",
    "tree2.fit(dftrainfinal2x,dftrainfinal2y)\n",
    "y_predtest=tree2.predict(dftestfinal2)"
   ]
  },
  {
   "cell_type": "code",
   "execution_count": 79,
   "metadata": {},
   "outputs": [
    {
     "name": "stdout",
     "output_type": "stream",
     "text": [
      "[0.6894878  0.68823171 0.68863415 0.69045122 0.68871951]\n",
      "[0.9731809  0.97459037 0.97588239 0.97674373 0.97167411]\n"
     ]
    }
   ],
   "source": [
    "print(cross_val_score(tree2,dftrainfinal2x,dftrainfinal2y,cv=5,scoring=\"accuracy\"))\n",
    "print(cross_val_score(tree2,dftrainfinal2x,dftrainfinal2y,cv=5,scoring=\"recall\"))"
   ]
  },
  {
   "cell_type": "code",
   "execution_count": 74,
   "metadata": {},
   "outputs": [
    {
     "name": "stdout",
     "output_type": "stream",
     "text": [
      "acurracy es : 0.6891048780487805\n",
      "recall es : 0.9744142888464309\n"
     ]
    }
   ],
   "source": [
    "print(f\"acurracy es : {accuracy_score(dftrainfinal2y,y_predtest)}\")\n",
    "print(f\"recall es : {recall_score(dftrainfinal2y,y_predtest)}\")"
   ]
  },
  {
   "cell_type": "code",
   "execution_count": 75,
   "metadata": {},
   "outputs": [],
   "source": [
    "#exportando a csv la prediccion para testinal2   con hospitalizaciones_test / segunda entrega\n",
    "y_predtest=tree2.predict(dftestfinal2)\n",
    "y_predtestcsv=pd.DataFrame(list(y_predtest),columns=[\"pred\"])\n",
    "y_predtestcsv.to_csv(\"pred/isaacpc94v7.csv\",index=False)"
   ]
  },
  {
   "cell_type": "markdown",
   "metadata": {},
   "source": [
    "NOVENA PRUEBA :"
   ]
  },
  {
   "cell_type": "code",
   "execution_count": 85,
   "metadata": {},
   "outputs": [],
   "source": [
    "# novena prediccion 4ta entrega/4ta entrega\n",
    "X_train, X_test, y_train, y_test = train_test_split(dftrainfinalx, dftrainfinaly, test_size=0.30, random_state=40) # Separamos nuestros \n",
    "                                                                                           #datos, dejando un 30% \n",
    "                                                                                           #para testear"
   ]
  },
  {
   "cell_type": "code",
   "execution_count": 86,
   "metadata": {},
   "outputs": [
    {
     "name": "stderr",
     "output_type": "stream",
     "text": [
      "c:\\Users\\Lenovo\\AppData\\Local\\Programs\\Python\\Python310\\lib\\site-packages\\sklearn\\model_selection\\_search.py:306: UserWarning: The total space of parameters 60 is smaller than n_iter=100. Running 60 iterations. For exhaustive searches, use GridSearchCV.\n",
      "  warnings.warn(\n"
     ]
    },
    {
     "data": {
      "text/plain": [
       "{'max_depth': 7, 'criterion': 'gini'}"
      ]
     },
     "execution_count": 86,
     "metadata": {},
     "output_type": "execute_result"
    }
   ],
   "source": [
    "#Prediccion numero 9 Para trainfinal\n",
    "param_dist = {'criterion':[\"gini\", \"entropy\", \"log_loss\"],\n",
    "              'max_depth': [1,2,3,4,5,6,7,8,9,10,11,12,13,14,15,16,17,18,19,20], }\n",
    "\n",
    "tree= DecisionTreeClassifier()\n",
    "model = RandomizedSearchCV(tree, param_dist,n_iter=100, random_state=0, cv=5,scoring=\"accuracy\")\n",
    "\n",
    "# Entrenamos knn con la grilla\n",
    "model.fit(X_train, y_train)\n",
    "model.best_params_"
   ]
  },
  {
   "cell_type": "code",
   "execution_count": 87,
   "metadata": {},
   "outputs": [],
   "source": [
    "tree2=DecisionTreeClassifier(max_depth=7,criterion=\"gini\")\n",
    "tree2.fit(X_train,y_train)\n",
    "y_predtrain=tree2.predict(X_train)\n",
    "y_predtest=tree2.predict(X_test)"
   ]
  },
  {
   "cell_type": "code",
   "execution_count": 88,
   "metadata": {},
   "outputs": [
    {
     "name": "stdout",
     "output_type": "stream",
     "text": [
      "acurracy es : 0.6887003484320557\n",
      "recall es : 0.954173678237389\n"
     ]
    }
   ],
   "source": [
    "print(f\"acurracy es : {accuracy_score(y_train,y_predtrain)}\")\n",
    "print(f\"recall es : {recall_score(y_train,y_predtrain)}\")"
   ]
  },
  {
   "cell_type": "code",
   "execution_count": 89,
   "metadata": {},
   "outputs": [
    {
     "name": "stdout",
     "output_type": "stream",
     "text": [
      "acurracy es : 0.6874065040650407\n",
      "recall es : 0.9533346397543928\n"
     ]
    }
   ],
   "source": [
    "print(f\"acurracy es : {accuracy_score(y_test,y_predtest)}\")\n",
    "print(f\"recall es : {recall_score(y_test,y_predtest)}\")"
   ]
  },
  {
   "cell_type": "code",
   "execution_count": 90,
   "metadata": {},
   "outputs": [],
   "source": [
    "#exportando a csv la prediccion para testinal2 /4ta entrega\n",
    "y_predtesttest=tree2.predict(dftestfinal)\n",
    "y_predtestcsv=pd.DataFrame(list(y_predtesttest),columns=[\"pred\"])\n",
    "y_predtestcsv.to_csv(\"pred/isaacpc94v9.csv\",index=False)"
   ]
  },
  {
   "cell_type": "markdown",
   "metadata": {},
   "source": [
    "DECIMA PRUEBA:"
   ]
  },
  {
   "cell_type": "code",
   "execution_count": 35,
   "metadata": {},
   "outputs": [],
   "source": [
    "X_train, X_test, y_train, y_test = train_test_split(dftrainfinal2x, dftrainfinal2y, test_size=0.70, random_state=40) # Separamos nuestros \n",
    "                                                                                           #datos, dejando un 30% \n",
    "                                                                                           #para testear"
   ]
  },
  {
   "cell_type": "code",
   "execution_count": 36,
   "metadata": {},
   "outputs": [],
   "source": [
    "#prediccion 10 entrega #3\n",
    "\n",
    "param_grid = {'n_neighbors':np.arange(1, 10),\n",
    "              }"
   ]
  },
  {
   "cell_type": "code",
   "execution_count": 37,
   "metadata": {},
   "outputs": [],
   "source": [
    "knn = KNeighborsClassifier()"
   ]
  },
  {
   "cell_type": "code",
   "execution_count": 38,
   "metadata": {},
   "outputs": [
    {
     "data": {
      "text/html": [
       "<style>#sk-container-id-1 {color: black;background-color: white;}#sk-container-id-1 pre{padding: 0;}#sk-container-id-1 div.sk-toggleable {background-color: white;}#sk-container-id-1 label.sk-toggleable__label {cursor: pointer;display: block;width: 100%;margin-bottom: 0;padding: 0.3em;box-sizing: border-box;text-align: center;}#sk-container-id-1 label.sk-toggleable__label-arrow:before {content: \"▸\";float: left;margin-right: 0.25em;color: #696969;}#sk-container-id-1 label.sk-toggleable__label-arrow:hover:before {color: black;}#sk-container-id-1 div.sk-estimator:hover label.sk-toggleable__label-arrow:before {color: black;}#sk-container-id-1 div.sk-toggleable__content {max-height: 0;max-width: 0;overflow: hidden;text-align: left;background-color: #f0f8ff;}#sk-container-id-1 div.sk-toggleable__content pre {margin: 0.2em;color: black;border-radius: 0.25em;background-color: #f0f8ff;}#sk-container-id-1 input.sk-toggleable__control:checked~div.sk-toggleable__content {max-height: 200px;max-width: 100%;overflow: auto;}#sk-container-id-1 input.sk-toggleable__control:checked~label.sk-toggleable__label-arrow:before {content: \"▾\";}#sk-container-id-1 div.sk-estimator input.sk-toggleable__control:checked~label.sk-toggleable__label {background-color: #d4ebff;}#sk-container-id-1 div.sk-label input.sk-toggleable__control:checked~label.sk-toggleable__label {background-color: #d4ebff;}#sk-container-id-1 input.sk-hidden--visually {border: 0;clip: rect(1px 1px 1px 1px);clip: rect(1px, 1px, 1px, 1px);height: 1px;margin: -1px;overflow: hidden;padding: 0;position: absolute;width: 1px;}#sk-container-id-1 div.sk-estimator {font-family: monospace;background-color: #f0f8ff;border: 1px dotted black;border-radius: 0.25em;box-sizing: border-box;margin-bottom: 0.5em;}#sk-container-id-1 div.sk-estimator:hover {background-color: #d4ebff;}#sk-container-id-1 div.sk-parallel-item::after {content: \"\";width: 100%;border-bottom: 1px solid gray;flex-grow: 1;}#sk-container-id-1 div.sk-label:hover label.sk-toggleable__label {background-color: #d4ebff;}#sk-container-id-1 div.sk-serial::before {content: \"\";position: absolute;border-left: 1px solid gray;box-sizing: border-box;top: 0;bottom: 0;left: 50%;z-index: 0;}#sk-container-id-1 div.sk-serial {display: flex;flex-direction: column;align-items: center;background-color: white;padding-right: 0.2em;padding-left: 0.2em;position: relative;}#sk-container-id-1 div.sk-item {position: relative;z-index: 1;}#sk-container-id-1 div.sk-parallel {display: flex;align-items: stretch;justify-content: center;background-color: white;position: relative;}#sk-container-id-1 div.sk-item::before, #sk-container-id-1 div.sk-parallel-item::before {content: \"\";position: absolute;border-left: 1px solid gray;box-sizing: border-box;top: 0;bottom: 0;left: 50%;z-index: -1;}#sk-container-id-1 div.sk-parallel-item {display: flex;flex-direction: column;z-index: 1;position: relative;background-color: white;}#sk-container-id-1 div.sk-parallel-item:first-child::after {align-self: flex-end;width: 50%;}#sk-container-id-1 div.sk-parallel-item:last-child::after {align-self: flex-start;width: 50%;}#sk-container-id-1 div.sk-parallel-item:only-child::after {width: 0;}#sk-container-id-1 div.sk-dashed-wrapped {border: 1px dashed gray;margin: 0 0.4em 0.5em 0.4em;box-sizing: border-box;padding-bottom: 0.4em;background-color: white;}#sk-container-id-1 div.sk-label label {font-family: monospace;font-weight: bold;display: inline-block;line-height: 1.2em;}#sk-container-id-1 div.sk-label-container {text-align: center;}#sk-container-id-1 div.sk-container {/* jupyter's `normalize.less` sets `[hidden] { display: none; }` but bootstrap.min.css set `[hidden] { display: none !important; }` so we also need the `!important` here to be able to override the default hidden behavior on the sphinx rendered scikit-learn.org. See: https://github.com/scikit-learn/scikit-learn/issues/21755 */display: inline-block !important;position: relative;}#sk-container-id-1 div.sk-text-repr-fallback {display: none;}</style><div id=\"sk-container-id-1\" class=\"sk-top-container\"><div class=\"sk-text-repr-fallback\"><pre>RandomizedSearchCV(cv=5, estimator=KNeighborsClassifier(), n_iter=5,\n",
       "                   param_distributions={&#x27;n_neighbors&#x27;: array([1, 2, 3, 4, 5, 6, 7, 8, 9])},\n",
       "                   scoring=&#x27;accuracy&#x27;)</pre><b>In a Jupyter environment, please rerun this cell to show the HTML representation or trust the notebook. <br />On GitHub, the HTML representation is unable to render, please try loading this page with nbviewer.org.</b></div><div class=\"sk-container\" hidden><div class=\"sk-item sk-dashed-wrapped\"><div class=\"sk-label-container\"><div class=\"sk-label sk-toggleable\"><input class=\"sk-toggleable__control sk-hidden--visually\" id=\"sk-estimator-id-1\" type=\"checkbox\" ><label for=\"sk-estimator-id-1\" class=\"sk-toggleable__label sk-toggleable__label-arrow\">RandomizedSearchCV</label><div class=\"sk-toggleable__content\"><pre>RandomizedSearchCV(cv=5, estimator=KNeighborsClassifier(), n_iter=5,\n",
       "                   param_distributions={&#x27;n_neighbors&#x27;: array([1, 2, 3, 4, 5, 6, 7, 8, 9])},\n",
       "                   scoring=&#x27;accuracy&#x27;)</pre></div></div></div><div class=\"sk-parallel\"><div class=\"sk-parallel-item\"><div class=\"sk-item\"><div class=\"sk-label-container\"><div class=\"sk-label sk-toggleable\"><input class=\"sk-toggleable__control sk-hidden--visually\" id=\"sk-estimator-id-2\" type=\"checkbox\" ><label for=\"sk-estimator-id-2\" class=\"sk-toggleable__label sk-toggleable__label-arrow\">estimator: KNeighborsClassifier</label><div class=\"sk-toggleable__content\"><pre>KNeighborsClassifier()</pre></div></div></div><div class=\"sk-serial\"><div class=\"sk-item\"><div class=\"sk-estimator sk-toggleable\"><input class=\"sk-toggleable__control sk-hidden--visually\" id=\"sk-estimator-id-3\" type=\"checkbox\" ><label for=\"sk-estimator-id-3\" class=\"sk-toggleable__label sk-toggleable__label-arrow\">KNeighborsClassifier</label><div class=\"sk-toggleable__content\"><pre>KNeighborsClassifier()</pre></div></div></div></div></div></div></div></div></div></div>"
      ],
      "text/plain": [
       "RandomizedSearchCV(cv=5, estimator=KNeighborsClassifier(), n_iter=5,\n",
       "                   param_distributions={'n_neighbors': array([1, 2, 3, 4, 5, 6, 7, 8, 9])},\n",
       "                   scoring='accuracy')"
      ]
     },
     "execution_count": 38,
     "metadata": {},
     "output_type": "execute_result"
    }
   ],
   "source": [
    "\n",
    "# Le pasamos la grilla que creamos\n",
    "model = RandomizedSearchCV(knn, param_grid, n_iter=5,cv=5,scoring=\"accuracy\")\n",
    "\n",
    "# Entrenamos\n",
    "model.fit(X_train, y_train)"
   ]
  },
  {
   "cell_type": "code",
   "execution_count": 39,
   "metadata": {},
   "outputs": [
    {
     "data": {
      "text/plain": [
       "{'n_neighbors': 7}"
      ]
     },
     "execution_count": 39,
     "metadata": {},
     "output_type": "execute_result"
    }
   ],
   "source": [
    "model.best_params_"
   ]
  },
  {
   "cell_type": "code",
   "execution_count": 40,
   "metadata": {},
   "outputs": [
    {
     "name": "stdout",
     "output_type": "stream",
     "text": [
      "acurracy es : 0.6681626016260163\n",
      "recall es : 0.8104052287581699\n"
     ]
    }
   ],
   "source": [
    "y_predtrain=model.predict(X_train)\n",
    "print(f\"acurracy es : {accuracy_score(y_train,y_predtrain)}\")\n",
    "print(f\"recall es : {recall_score(y_train,y_predtrain)}\")"
   ]
  },
  {
   "cell_type": "code",
   "execution_count": 41,
   "metadata": {},
   "outputs": [
    {
     "name": "stdout",
     "output_type": "stream",
     "text": [
      "acurracy es : 0.6712439024390244\n",
      "recall es : 0.8129010261798832\n"
     ]
    }
   ],
   "source": [
    "y_predtest=model.predict(X_test)\n",
    "print(f\"acurracy es : {accuracy_score(y_test,y_predtest)}\")\n",
    "print(f\"recall es : {recall_score(y_test,y_predtest)}\")"
   ]
  },
  {
   "cell_type": "code",
   "execution_count": 42,
   "metadata": {},
   "outputs": [],
   "source": [
    "#exportando a csv la prediccion para testinal2\n",
    "y_predtesttest=model.predict(dftestfinal2)\n",
    "y_predtestcsv=pd.DataFrame(list(y_predtesttest),columns=[\"pred\"])\n",
    "y_predtestcsv.to_csv(\"pred/isaacpc94v10.csv\",index=False)"
   ]
  }
 ],
 "metadata": {
  "kernelspec": {
   "display_name": "Python 3.10.5 64-bit",
   "language": "python",
   "name": "python3"
  },
  "language_info": {
   "codemirror_mode": {
    "name": "ipython",
    "version": 3
   },
   "file_extension": ".py",
   "mimetype": "text/x-python",
   "name": "python",
   "nbconvert_exporter": "python",
   "pygments_lexer": "ipython3",
   "version": "3.10.5"
  },
  "orig_nbformat": 4,
  "vscode": {
   "interpreter": {
    "hash": "8c3d4d9970fc5c09c50d9318a9c7fbf4d0159e4b28833276f5678ee22bded273"
   }
  }
 },
 "nbformat": 4,
 "nbformat_minor": 2
}
